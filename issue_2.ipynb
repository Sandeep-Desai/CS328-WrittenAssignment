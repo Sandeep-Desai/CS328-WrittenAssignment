{
 "cells": [
  {
   "cell_type": "code",
   "execution_count": null,
   "metadata": {
    "collapsed": true,
    "ExecuteTime": {
     "start_time": "2023-04-29T22:47:51.735064Z",
     "end_time": "2023-04-29T22:47:52.286106Z"
    }
   },
   "outputs": [],
   "source": [
    "import pandas as pd\n",
    "df = pd.read_csv('papers.csv')"
   ]
  },
  {
   "cell_type": "code",
   "execution_count": null,
   "outputs": [],
   "source": [
    "unique_affiliations_df = df['Affiliation'].unique()\n",
    "# add first head drop\n",
    "unique_affiliations_df = pd.DataFrame(unique_affiliations_df, columns=['Affiliation'])\n",
    "pd.DataFrame(unique_affiliations_df).to_csv('unique_affiliations.csv')"
   ],
   "metadata": {
    "collapsed": false,
    "ExecuteTime": {
     "start_time": "2023-04-29T22:47:55.182040Z",
     "end_time": "2023-04-29T22:47:55.197622Z"
    }
   }
  },
  {
   "cell_type": "code",
   "execution_count": null,
   "outputs": [],
   "source": [
    "unique_affiliations_df.head()\n",
    "import requests\n",
    "from tqdm import tqdm\n",
    "\n",
    "unique_affiliations_df['country'] = None\n",
    "\n",
    "none_count = 0\n",
    "\n",
    "# first search with openstreetmap\n",
    "for i in tqdm(range(len(unique_affiliations_df))):\n",
    "    try:\n",
    "        institute_name = unique_affiliations_df.loc[i, 'Affiliation']\n",
    "        url = f\"https://nominatim.openstreetmap.org/search?q={institute_name}&format=json&accept-language=en\"\n",
    "\n",
    "        response = requests.get(url)\n",
    "        if response.status_code == 200:\n",
    "            results = response.json()\n",
    "            if len(results) > 0:\n",
    "                country = results[0]['display_name'].split(',')[-1].strip()\n",
    "                unique_affiliations_df.loc[i, 'country'] = country\n",
    "            else:\n",
    "                unique_affiliations_df['country'][i] = 'None'\n",
    "                none_count += 1\n",
    "        else:\n",
    "            print(f\"API ERROR\")\n",
    "    except:\n",
    "        print(f\"ERROR: {i}\")\n",
    "        unique_affiliations_df['country'][i] = 'None'\n",
    "        none_count += 1\n",
    "print(f\"None count: {none_count}\")\n",
    "pd.DataFrame(unique_affiliations_df).to_csv('unique_affiliations.csv')\n"
   ],
   "metadata": {
    "collapsed": false,
    "ExecuteTime": {
     "start_time": "2023-04-29T18:27:50.923447Z",
     "end_time": "2023-04-29T20:32:29.872670Z"
    }
   }
  },
  {
   "cell_type": "code",
   "execution_count": null,
   "outputs": [],
   "source": [
    "unique_affiliations_df['country'].value_counts()"
   ],
   "metadata": {
    "collapsed": false,
    "ExecuteTime": {
     "start_time": "2023-04-29T20:58:08.545697Z",
     "end_time": "2023-04-29T20:58:08.546211Z"
    }
   }
  },
  {
   "cell_type": "code",
   "execution_count": null,
   "outputs": [],
   "source": [
    "import re\n",
    "import json\n",
    "from tqdm import tqdm\n",
    "import requests\n",
    "import pandas as pd\n",
    "\n",
    "# separate None in country df\n",
    "unique_affiliations_df = pd.read_csv('unique_affiliations.csv')\n",
    "none_df = pd.DataFrame(unique_affiliations_df[unique_affiliations_df['country'] == 'None'].reset_index(drop=True).copy())\n",
    "\n",
    "none_count = 0\n",
    "\n",
    "for i in tqdm(range(len(none_df))):\n",
    "    try:\n",
    "        institute_name = none_df.loc[i, 'Affiliation']\n",
    "\n",
    "        # Your Scopus API key\n",
    "        api_key = \"46628ca2f498070f25172d9c78fd1c86\"\n",
    "\n",
    "        # Search query parameters\n",
    "        query = f\"affil({institute_name})\"\n",
    "\n",
    "        # API request URL\n",
    "        url = f\"https://api.elsevier.com/content/search/affiliation?query={query}&apiKey={api_key}\"\n",
    "\n",
    "        # Send request to API\n",
    "        response = requests.get(url)\n",
    "        #get json\n",
    "        data = response.json()\n",
    "        if len(data['search-results']['entry']) > 0:\n",
    "            country = data['search-results']['entry'][0]['country']\n",
    "            none_df.loc[i, 'country'] = country\n",
    "    except:\n",
    "        none_count += 1\n",
    "print(f\"None count: {none_count}\")\n",
    "pd.DataFrame(none_df).to_csv('none_df.csv')"
   ],
   "metadata": {
    "collapsed": false,
    "ExecuteTime": {
     "start_time": "2023-04-29T23:55:03.737836Z",
     "end_time": "2023-04-30T00:15:51.237919Z"
    }
   }
  },
  {
   "cell_type": "code",
   "execution_count": null,
   "outputs": [],
   "source": [
    "university_affiliation_df = pd.read_csv('unique_affiliations.csv')\n",
    "none_df = pd.read_csv('none_df.csv')\n",
    "\n",
    "university_affiliation_dict = {}\n",
    "for i in range(len(university_affiliation_df)):\n",
    "    university_affiliation_dict[university_affiliation_df.loc[i, 'Affiliation']] = university_affiliation_df.loc[i, 'country']\n",
    "\n",
    "for i in range(len(none_df)):\n",
    "    university_affiliation_dict[none_df.loc[i, 'Affiliation']] = none_df.loc[i, 'country']\n",
    "\n",
    "university_affiliation_dict"
   ],
   "metadata": {
    "collapsed": false,
    "ExecuteTime": {
     "start_time": "2023-04-30T00:35:49.065401Z",
     "end_time": "2023-04-30T00:35:49.133656Z"
    }
   }
  },
  {
   "cell_type": "code",
   "execution_count": 17,
   "outputs": [
    {
     "name": "stderr",
     "output_type": "stream",
     "text": [
      "100%|██████████| 49317/49317 [00:01<00:00, 39740.79it/s]\n"
     ]
    }
   ],
   "source": [
    "papers = pd.read_csv('papers.csv')\n",
    "papers['country'] = None\n",
    "none_count = 0\n",
    "for i in tqdm(range(len(papers))):\n",
    "    institute_name = papers.loc[i, 'Affiliation']\n",
    "    papers.loc[i, 'country'] = university_affiliation_dict[institute_name]\n",
    "\n",
    "#save papers_with_country\n",
    "papers.to_csv('papers_with_country.csv')"
   ],
   "metadata": {
    "collapsed": false,
    "ExecuteTime": {
     "start_time": "2023-04-30T00:42:33.606195Z",
     "end_time": "2023-04-30T00:42:35.033896Z"
    }
   }
  },
  {
   "cell_type": "code",
   "execution_count": 23,
   "outputs": [
    {
     "data": {
      "text/plain": "446"
     },
     "execution_count": 23,
     "metadata": {},
     "output_type": "execute_result"
    }
   ],
   "source": [
    "# read papers_with_country\n",
    "papers = pd.read_csv('papers_with_country.csv')\n",
    "#top "
   ],
   "metadata": {
    "collapsed": false,
    "ExecuteTime": {
     "start_time": "2023-04-30T01:13:35.720471Z",
     "end_time": "2023-04-30T01:13:35.824887Z"
    }
   }
  },
  {
   "cell_type": "code",
   "execution_count": null,
   "outputs": [],
   "source": [],
   "metadata": {
    "collapsed": false
   }
  }
 ],
 "metadata": {
  "kernelspec": {
   "display_name": "Python 3",
   "language": "python",
   "name": "python3"
  },
  "language_info": {
   "codemirror_mode": {
    "name": "ipython",
    "version": 2
   },
   "file_extension": ".py",
   "mimetype": "text/x-python",
   "name": "python",
   "nbconvert_exporter": "python",
   "pygments_lexer": "ipython2",
   "version": "2.7.6"
  }
 },
 "nbformat": 4,
 "nbformat_minor": 0
}

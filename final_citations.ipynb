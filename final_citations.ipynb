{
 "cells": [
  {
   "cell_type": "code",
   "execution_count": 43,
   "metadata": {},
   "outputs": [],
   "source": [
    "import pandas as pd \n",
    "import numpy as np\n",
    "import matplotlib.pyplot as plt\n",
    "import tqdm\n",
    "import requests\n",
    "import json"
   ]
  },
  {
   "attachments": {},
   "cell_type": "markdown",
   "metadata": {},
   "source": [
    "### Importing main file 'papers.csv'"
   ]
  },
  {
   "cell_type": "code",
   "execution_count": 44,
   "metadata": {},
   "outputs": [
    {
     "name": "stdout",
     "output_type": "stream",
     "text": [
      "49317\n",
      "Index(['Conference', 'Year', 'Title', 'Author', 'Affiliation'], dtype='object')\n"
     ]
    }
   ],
   "source": [
    "df=pd.read_csv('papers.csv')\n",
    "print(len(df))\n",
    "print(df.columns)"
   ]
  },
  {
   "cell_type": "code",
   "execution_count": 45,
   "metadata": {},
   "outputs": [],
   "source": [
    "# dataframe for doing citations related analysis\n",
    "df_citations=pd.DataFrame(columns=df.columns)"
   ]
  },
  {
   "attachments": {},
   "cell_type": "markdown",
   "metadata": {},
   "source": [
    "#### Merging the papers with same title \n",
    "\n",
    "In the given dataset if a paper has multiple authors than it is repeated for each author. So, we are merging the papers with same title and creating a new dataset. "
   ]
  },
  {
   "cell_type": "code",
   "execution_count": 46,
   "metadata": {},
   "outputs": [],
   "source": [
    "i=0\n",
    "while i<len(df):\n",
    "    title=df.loc[i,'Title']\n",
    "    ct=i\n",
    "    conf=df.loc[i,'Conference']\n",
    "    year=df.loc[i,'Year']\n",
    "    authors=[]\n",
    "    aff=[]\n",
    "    while ct<len(df) and df.loc[ct,'Title']==title:\n",
    "        authors.append(df.loc[ct,'Author'])\n",
    "        aff.append(df.loc[ct,'Affiliation'])\n",
    "        i=i+1\n",
    "        ct=ct+1\n",
    "    df_citations.loc[len(df_citations)]=[conf,year,title,authors,aff]"
   ]
  },
  {
   "attachments": {},
   "cell_type": "markdown",
   "metadata": {},
   "source": [
    "### Getting citations for each paper from title using Semantic Scholar API\n",
    "\n",
    "Using Semantic Scholar API we are getting the citations for each paper from title. However due to limit on number of requests we can make to the API and time it consumes to get Id from the title and citations from id we are only getting citations for paper belonging to year 2006-2012. \n"
   ]
  },
  {
   "cell_type": "code",
   "execution_count": 11,
   "metadata": {},
   "outputs": [
    {
     "name": "stderr",
     "output_type": "stream",
     "text": [
      "100%|██████████| 1899/1899 [1:44:32<00:00,  3.30s/it]  \n"
     ]
    },
    {
     "name": "stdout",
     "output_type": "stream",
     "text": [
      "0.2553975776724592\n"
     ]
    }
   ],
   "source": [
    "error_rate=0\n",
    "citation_graph=pd.DataFrame(columns=['PaperId','Cited_PaperId'])\n",
    "for i in tqdm.trange(len(df_citations[df_citations['Year']<=2012])):\n",
    "    title=df_citations.loc[i,'Title']\n",
    "    try:\n",
    "        # getting id by title\n",
    "        query=\"http://api.semanticscholar.org/graph/v1/paper/search?query=\"+title\n",
    "        req=requests.get(query)\n",
    "        response=req.json()\n",
    "        id=response['data'][0]['paperId']\n",
    "        citation_graph.loc[i]=[id,[]]\n",
    "\n",
    "        # getting citations by id\n",
    "        search_by_id=\"https://api.semanticscholar.org/graph/v1/paper/\"+id+\"?fields=title,citations.authors,authors\"\n",
    "        req=requests.get(search_by_id)\n",
    "        response=dic2=json.loads(req.content.decode('utf-8'))\n",
    "        \n",
    "        for citation in response['citations']:\n",
    "            citation_graph.loc[i,'Cited_PaperId'].append(citation['paperId'])\n",
    "        \n",
    "    except:\n",
    "        error_rate=error_rate+1\n",
    "    if(i%100==0):\n",
    "        print(error_rate/(i+1))\n",
    "        citation_graph.to_csv('citation_graph_2012.csv',index=False)\n",
    "\n",
    "print(error_rate/len(df_citations[df_citations['Year']<=2012]))\n",
    "# citation_graph.to_csv('citation_graph_2012.csv',index=False)\n"
   ]
  },
  {
   "attachments": {},
   "cell_type": "markdown",
   "metadata": {},
   "source": [
    "We were able to get citations for around 1400 papers from around 1800 papers belonging to year 2006-2012. The reason for not getting citations for all the papers is that some of the papers are not present in the Semantic Scholar database."
   ]
  },
  {
   "cell_type": "code",
   "execution_count": null,
   "metadata": {},
   "outputs": [],
   "source": [
    "# citation_graph.to_csv('citation_graph_2012.csv',index=False)\n",
    "# this file with used later to after mapping countries to papers"
   ]
  },
  {
   "attachments": {},
   "cell_type": "markdown",
   "metadata": {},
   "source": [
    "###  Getting country of each paper \n",
    "'paper_with_country.csv' already contains the country of each paper. We will map the title of paper to a country. However in cases when when a paper has multiple authors belonging to different countries we will assign majority country to the paper.\n",
    "\n"
   ]
  },
  {
   "cell_type": "code",
   "execution_count": 48,
   "metadata": {},
   "outputs": [],
   "source": [
    "country = pd.read_csv('citation_data/papers_with_country.csv')\n",
    "country_till_2012=country[country['Year']<=2012]"
   ]
  },
  {
   "cell_type": "code",
   "execution_count": 49,
   "metadata": {},
   "outputs": [
    {
     "name": "stderr",
     "output_type": "stream",
     "text": [
      "C:\\Users\\Sandeep\\AppData\\Local\\Temp\\ipykernel_17168\\3755489797.py:1: SettingWithCopyWarning: \n",
      "A value is trying to be set on a copy of a slice from a DataFrame.\n",
      "Try using .loc[row_indexer,col_indexer] = value instead\n",
      "\n",
      "See the caveats in the documentation: https://pandas.pydata.org/pandas-docs/stable/user_guide/indexing.html#returning-a-view-versus-a-copy\n",
      "  country_till_2012['PaperId']=np.nan\n"
     ]
    }
   ],
   "source": [
    "country_till_2012['PaperId']=np.nan"
   ]
  },
  {
   "cell_type": "code",
   "execution_count": 66,
   "metadata": {},
   "outputs": [],
   "source": [
    "title_to_id={}\n",
    "unique_titles=country_till_2012['Title'].unique()"
   ]
  },
  {
   "cell_type": "code",
   "execution_count": null,
   "metadata": {},
   "outputs": [],
   "source": [
    "\n",
    "error_rate=0\n",
    "for i in tqdm.trange(len(unique_titles)):\n",
    "    title=unique_titles[i]\n",
    "    url=\"http://api.semanticscholar.org/graph/v1/paper/search?query=\"+title\n",
    "    try:\n",
    "        req=requests.get(url)\n",
    "        response=req.json()\n",
    "        id=response['data'][0]['paperId']\n",
    "        title_to_id[title]=id\n",
    "    except:\n",
    "        error_rate+=1\n",
    "    if(i%100==0):\n",
    "        print(i)\n",
    "        print(error_rate/(i+1))\n",
    "        print(\"-------------------\")\n",
    "\n",
    "print(error_rate/len(unique_titles))\n"
   ]
  },
  {
   "cell_type": "code",
   "execution_count": 67,
   "metadata": {},
   "outputs": [],
   "source": [
    "# with open('title_to_id.json', 'w') as fp:\n",
    "#     json.dump(title_to_id, fp)\n",
    "# load json file\n",
    "with open('citation_data/title_to_id.json', 'r') as fp:\n",
    "    title_to_id = json.load(fp)"
   ]
  },
  {
   "cell_type": "code",
   "execution_count": null,
   "metadata": {},
   "outputs": [],
   "source": [
    "for i in tqdm.trange(len(country_till_2012)):\n",
    "    if title in title_to_id:\n",
    "        country_till_2012['PaperId'][i]=title_to_id[title]\n",
    "    else:\n",
    "        country_till_2012['PaperId'][i]=np.nan"
   ]
  },
  {
   "cell_type": "code",
   "execution_count": null,
   "metadata": {},
   "outputs": [],
   "source": [
    "# country_till_2012.to_csv('papers_with_country_id.csv',index=False)"
   ]
  },
  {
   "cell_type": "code",
   "execution_count": 51,
   "metadata": {},
   "outputs": [
    {
     "data": {
      "text/html": [
       "<div>\n",
       "<style scoped>\n",
       "    .dataframe tbody tr th:only-of-type {\n",
       "        vertical-align: middle;\n",
       "    }\n",
       "\n",
       "    .dataframe tbody tr th {\n",
       "        vertical-align: top;\n",
       "    }\n",
       "\n",
       "    .dataframe thead th {\n",
       "        text-align: right;\n",
       "    }\n",
       "</style>\n",
       "<table border=\"1\" class=\"dataframe\">\n",
       "  <thead>\n",
       "    <tr style=\"text-align: right;\">\n",
       "      <th></th>\n",
       "      <th>Unnamed: 0</th>\n",
       "      <th>Conference</th>\n",
       "      <th>Year</th>\n",
       "      <th>Title</th>\n",
       "      <th>Author</th>\n",
       "      <th>Affiliation</th>\n",
       "      <th>country</th>\n",
       "      <th>PaperId</th>\n",
       "    </tr>\n",
       "  </thead>\n",
       "  <tbody>\n",
       "    <tr>\n",
       "      <th>0</th>\n",
       "      <td>0</td>\n",
       "      <td>NeurIPS</td>\n",
       "      <td>2006</td>\n",
       "      <td>Attentional Processing on a Spike-Based VLSI N...</td>\n",
       "      <td>Yingxue Wang</td>\n",
       "      <td>Swiss Federal Institute of Technology, Zurich</td>\n",
       "      <td>Switzerland</td>\n",
       "      <td>f70117fb674450a69b2fee1a041fe7828bde0486</td>\n",
       "    </tr>\n",
       "    <tr>\n",
       "      <th>1</th>\n",
       "      <td>1</td>\n",
       "      <td>NeurIPS</td>\n",
       "      <td>2006</td>\n",
       "      <td>Attentional Processing on a Spike-Based VLSI N...</td>\n",
       "      <td>Rodney J Douglas</td>\n",
       "      <td>Institute of Neuroinformatics</td>\n",
       "      <td>Switzerland</td>\n",
       "      <td>f70117fb674450a69b2fee1a041fe7828bde0486</td>\n",
       "    </tr>\n",
       "    <tr>\n",
       "      <th>2</th>\n",
       "      <td>2</td>\n",
       "      <td>NeurIPS</td>\n",
       "      <td>2006</td>\n",
       "      <td>Attentional Processing on a Spike-Based VLSI N...</td>\n",
       "      <td>Shih-Chii Liu</td>\n",
       "      <td>Institute for Neuroinformatics, University of ...</td>\n",
       "      <td>None</td>\n",
       "      <td>f70117fb674450a69b2fee1a041fe7828bde0486</td>\n",
       "    </tr>\n",
       "    <tr>\n",
       "      <th>3</th>\n",
       "      <td>3</td>\n",
       "      <td>NeurIPS</td>\n",
       "      <td>2006</td>\n",
       "      <td>Multi-Task Feature Learning</td>\n",
       "      <td>Andreas Argyriou</td>\n",
       "      <td>Ecole Centrale de Paris</td>\n",
       "      <td>France</td>\n",
       "      <td>f70117fb674450a69b2fee1a041fe7828bde0486</td>\n",
       "    </tr>\n",
       "    <tr>\n",
       "      <th>4</th>\n",
       "      <td>4</td>\n",
       "      <td>NeurIPS</td>\n",
       "      <td>2006</td>\n",
       "      <td>Multi-Task Feature Learning</td>\n",
       "      <td>Theos Evgeniou</td>\n",
       "      <td>INSEAD</td>\n",
       "      <td>France</td>\n",
       "      <td>f70117fb674450a69b2fee1a041fe7828bde0486</td>\n",
       "    </tr>\n",
       "  </tbody>\n",
       "</table>\n",
       "</div>"
      ],
      "text/plain": [
       "   Unnamed: 0 Conference  Year  \\\n",
       "0           0    NeurIPS  2006   \n",
       "1           1    NeurIPS  2006   \n",
       "2           2    NeurIPS  2006   \n",
       "3           3    NeurIPS  2006   \n",
       "4           4    NeurIPS  2006   \n",
       "\n",
       "                                               Title            Author  \\\n",
       "0  Attentional Processing on a Spike-Based VLSI N...      Yingxue Wang   \n",
       "1  Attentional Processing on a Spike-Based VLSI N...  Rodney J Douglas   \n",
       "2  Attentional Processing on a Spike-Based VLSI N...     Shih-Chii Liu   \n",
       "3                        Multi-Task Feature Learning  Andreas Argyriou   \n",
       "4                        Multi-Task Feature Learning    Theos Evgeniou   \n",
       "\n",
       "                                         Affiliation      country  \\\n",
       "0      Swiss Federal Institute of Technology, Zurich  Switzerland   \n",
       "1                      Institute of Neuroinformatics  Switzerland   \n",
       "2  Institute for Neuroinformatics, University of ...         None   \n",
       "3                            Ecole Centrale de Paris       France   \n",
       "4                                             INSEAD       France   \n",
       "\n",
       "                                    PaperId  \n",
       "0  f70117fb674450a69b2fee1a041fe7828bde0486  \n",
       "1  f70117fb674450a69b2fee1a041fe7828bde0486  \n",
       "2  f70117fb674450a69b2fee1a041fe7828bde0486  \n",
       "3  f70117fb674450a69b2fee1a041fe7828bde0486  \n",
       "4  f70117fb674450a69b2fee1a041fe7828bde0486  "
      ]
     },
     "execution_count": 51,
     "metadata": {},
     "output_type": "execute_result"
    }
   ],
   "source": [
    "country_till_2012=pd.read_csv('citation_data/papers_with_country_id.csv')\n",
    "country_till_2012.head()"
   ]
  },
  {
   "cell_type": "code",
   "execution_count": 53,
   "metadata": {},
   "outputs": [
    {
     "data": {
      "text/plain": [
       "Index(['PaperId', 'Cited_PaperId'], dtype='object')"
      ]
     },
     "execution_count": 53,
     "metadata": {},
     "output_type": "execute_result"
    }
   ],
   "source": [
    "citation_graph=pd.read_csv('citation_data/citation_graph_2012.csv')\n",
    "citation_graph.columns"
   ]
  },
  {
   "cell_type": "code",
   "execution_count": 54,
   "metadata": {},
   "outputs": [
    {
     "name": "stderr",
     "output_type": "stream",
     "text": [
      "100%|██████████| 1414/1414 [00:02<00:00, 658.52it/s]\n"
     ]
    },
    {
     "data": {
      "text/html": [
       "<div>\n",
       "<style scoped>\n",
       "    .dataframe tbody tr th:only-of-type {\n",
       "        vertical-align: middle;\n",
       "    }\n",
       "\n",
       "    .dataframe tbody tr th {\n",
       "        vertical-align: top;\n",
       "    }\n",
       "\n",
       "    .dataframe thead th {\n",
       "        text-align: right;\n",
       "    }\n",
       "</style>\n",
       "<table border=\"1\" class=\"dataframe\">\n",
       "  <thead>\n",
       "    <tr style=\"text-align: right;\">\n",
       "      <th></th>\n",
       "      <th>PaperId</th>\n",
       "      <th>Cited_PaperId</th>\n",
       "    </tr>\n",
       "  </thead>\n",
       "  <tbody>\n",
       "    <tr>\n",
       "      <th>0</th>\n",
       "      <td>1cac3ee85e52cb0afde71f66472e35a315a4a112</td>\n",
       "      <td>[ad82862b99028bf87eda454bf0f92788f19cdbac, 489...</td>\n",
       "    </tr>\n",
       "    <tr>\n",
       "      <th>1</th>\n",
       "      <td>7227f224679969446d5363c7dbfd61bcdd4b338f</td>\n",
       "      <td>[c5c744b1609f473c882bcbd751eb13a72f13e7bc, f5a...</td>\n",
       "    </tr>\n",
       "    <tr>\n",
       "      <th>2</th>\n",
       "      <td>167126a5c592ea0ac743228c5465b45eed3f0e84</td>\n",
       "      <td>[784355019ffeec8bd01557fce49891bcf697e57c, 7a1...</td>\n",
       "    </tr>\n",
       "    <tr>\n",
       "      <th>3</th>\n",
       "      <td>219a1eed0d61a144024a6d1cf487c116d1cfd017</td>\n",
       "      <td>[fd1621615511d7dd035863c112757e67172da7b5, f86...</td>\n",
       "    </tr>\n",
       "    <tr>\n",
       "      <th>4</th>\n",
       "      <td>dc08a44d88826a80472c374a287a78376a167fd0</td>\n",
       "      <td>[7ee1483b3169576c18ade8833fc555af2590aae1, a44...</td>\n",
       "    </tr>\n",
       "    <tr>\n",
       "      <th>...</th>\n",
       "      <td>...</td>\n",
       "      <td>...</td>\n",
       "    </tr>\n",
       "    <tr>\n",
       "      <th>1409</th>\n",
       "      <td>0afdedf3c6a78550974a528fa350a051d1875f98</td>\n",
       "      <td>[05ed6ab7fbb8feba2c9b390d398e97b9857bd870, 5b1...</td>\n",
       "    </tr>\n",
       "    <tr>\n",
       "      <th>1410</th>\n",
       "      <td>8e560d9c726f1cbd27bafe6dd7b312f4be5fa32e</td>\n",
       "      <td>[7470a1702c8c86e6f28d32cfa315381150102f5b, 81c...</td>\n",
       "    </tr>\n",
       "    <tr>\n",
       "      <th>1411</th>\n",
       "      <td>7a1409b35c4138b5c1e23f77ad70488b888a66f7</td>\n",
       "      <td>[e9abbbf1e64cd972fb2e8bbc1ffe983c8cdc640e, b50...</td>\n",
       "    </tr>\n",
       "    <tr>\n",
       "      <th>1412</th>\n",
       "      <td>dc159dd285c58f74f69a56c5071c89450dd01bea</td>\n",
       "      <td>[635bd758b5d2666889a090bc81a5569c1a8fe3ad, 2b9...</td>\n",
       "    </tr>\n",
       "    <tr>\n",
       "      <th>1413</th>\n",
       "      <td>3b64220cbece255749a121a910cf800ea38722d5</td>\n",
       "      <td>[fd094fc8e6b9319b41594df45fe058b3fff8ae55, ff2...</td>\n",
       "    </tr>\n",
       "  </tbody>\n",
       "</table>\n",
       "<p>1414 rows × 2 columns</p>\n",
       "</div>"
      ],
      "text/plain": [
       "                                       PaperId  \\\n",
       "0     1cac3ee85e52cb0afde71f66472e35a315a4a112   \n",
       "1     7227f224679969446d5363c7dbfd61bcdd4b338f   \n",
       "2     167126a5c592ea0ac743228c5465b45eed3f0e84   \n",
       "3     219a1eed0d61a144024a6d1cf487c116d1cfd017   \n",
       "4     dc08a44d88826a80472c374a287a78376a167fd0   \n",
       "...                                        ...   \n",
       "1409  0afdedf3c6a78550974a528fa350a051d1875f98   \n",
       "1410  8e560d9c726f1cbd27bafe6dd7b312f4be5fa32e   \n",
       "1411  7a1409b35c4138b5c1e23f77ad70488b888a66f7   \n",
       "1412  dc159dd285c58f74f69a56c5071c89450dd01bea   \n",
       "1413  3b64220cbece255749a121a910cf800ea38722d5   \n",
       "\n",
       "                                          Cited_PaperId  \n",
       "0     [ad82862b99028bf87eda454bf0f92788f19cdbac, 489...  \n",
       "1     [c5c744b1609f473c882bcbd751eb13a72f13e7bc, f5a...  \n",
       "2     [784355019ffeec8bd01557fce49891bcf697e57c, 7a1...  \n",
       "3     [fd1621615511d7dd035863c112757e67172da7b5, f86...  \n",
       "4     [7ee1483b3169576c18ade8833fc555af2590aae1, a44...  \n",
       "...                                                 ...  \n",
       "1409  [05ed6ab7fbb8feba2c9b390d398e97b9857bd870, 5b1...  \n",
       "1410  [7470a1702c8c86e6f28d32cfa315381150102f5b, 81c...  \n",
       "1411  [e9abbbf1e64cd972fb2e8bbc1ffe983c8cdc640e, b50...  \n",
       "1412  [635bd758b5d2666889a090bc81a5569c1a8fe3ad, 2b9...  \n",
       "1413  [fd094fc8e6b9319b41594df45fe058b3fff8ae55, ff2...  \n",
       "\n",
       "[1414 rows x 2 columns]"
      ]
     },
     "execution_count": 54,
     "metadata": {},
     "output_type": "execute_result"
    }
   ],
   "source": [
    "for i in tqdm.trange(len(citation_graph)):\n",
    "    citation_graph['Cited_PaperId'][i]=eval(citation_graph['Cited_PaperId'][i])\n",
    "citation_graph"
   ]
  },
  {
   "cell_type": "code",
   "execution_count": 60,
   "metadata": {},
   "outputs": [
    {
     "name": "stderr",
     "output_type": "stream",
     "text": [
      "100%|██████████| 1656/1656 [00:00<00:00, 207857.54it/s]\n"
     ]
    }
   ],
   "source": [
    "id_to_title={}\n",
    "for title,id in tqdm.tqdm(title_to_id.items()):\n",
    "    id_to_title[id]=title"
   ]
  },
  {
   "cell_type": "code",
   "execution_count": 62,
   "metadata": {},
   "outputs": [],
   "source": [
    "citation_graph['Title']=np.nan"
   ]
  },
  {
   "cell_type": "code",
   "execution_count": 63,
   "metadata": {},
   "outputs": [
    {
     "name": "stderr",
     "output_type": "stream",
     "text": [
      "C:\\Users\\Sandeep\\AppData\\Local\\Temp\\ipykernel_17168\\3105407385.py:5: SettingWithCopyWarning: \n",
      "A value is trying to be set on a copy of a slice from a DataFrame\n",
      "\n",
      "See the caveats in the documentation: https://pandas.pydata.org/pandas-docs/stable/user_guide/indexing.html#returning-a-view-versus-a-copy\n",
      "  citation_graph['Title'][i]=title\n"
     ]
    }
   ],
   "source": [
    "for i in range(len(citation_graph)):\n",
    "    id=citation_graph['PaperId'][i]\n",
    "    try:\n",
    "        title=id_to_title[id]\n",
    "        citation_graph['Title'][i]=title\n",
    "    except:\n",
    "        citation_graph['Title'][i]=np.nan"
   ]
  },
  {
   "cell_type": "code",
   "execution_count": 68,
   "metadata": {},
   "outputs": [],
   "source": [
    "title_to_country={}\n",
    "papers_with_country=pd.read_csv('citation_data/papers_with_country_id.csv')\n",
    "for title in unique_titles:\n",
    "    country=papers_with_country[papers_with_country['Title']==title]['country'].values\n",
    "    # majority vote on title to country\n",
    "    country_count={}\n",
    "    for c in country:\n",
    "        # print(type(c))\n",
    "        if(c!='None'):\n",
    "            if c in country_count:\n",
    "                country_count[c]+=1\n",
    "            else:\n",
    "                country_count[c]=1\n",
    "    country_count=sorted(country_count.items(),key=lambda x:x[1],reverse=True)\n",
    "    if(len(country_count)==0):\n",
    "        title_to_country[title]='None'\n",
    "    else:\n",
    "        title_to_country[title]=country_count[0][0]"
   ]
  },
  {
   "cell_type": "code",
   "execution_count": 69,
   "metadata": {},
   "outputs": [
    {
     "name": "stderr",
     "output_type": "stream",
     "text": [
      "  0%|          | 0/1414 [00:00<?, ?it/s]C:\\Users\\Sandeep\\AppData\\Local\\Temp\\ipykernel_17168\\343515595.py:6: SettingWithCopyWarning: \n",
      "A value is trying to be set on a copy of a slice from a DataFrame\n",
      "\n",
      "See the caveats in the documentation: https://pandas.pydata.org/pandas-docs/stable/user_guide/indexing.html#returning-a-view-versus-a-copy\n",
      "  citation_graph['Country'][i]=country\n",
      "100%|██████████| 1414/1414 [00:00<00:00, 38371.06it/s]\n"
     ]
    }
   ],
   "source": [
    "citation_graph['Country']=np.nan\n",
    "for i in tqdm.trange(len(citation_graph)):\n",
    "    title=citation_graph['Title'][i]\n",
    "    try:\n",
    "        country=title_to_country[title]\n",
    "        citation_graph['Country'][i]=country\n",
    "    except:\n",
    "        citation_graph['Country'][i]=np.nan"
   ]
  },
  {
   "cell_type": "code",
   "execution_count": null,
   "metadata": {},
   "outputs": [],
   "source": [
    "# citation_graph.to_csv('citation_graph_2012_with_country.csv',index=False)"
   ]
  },
  {
   "attachments": {},
   "cell_type": "markdown",
   "metadata": {},
   "source": [
    "### Creating a Visual Citation Graph once with find country of each paper\n",
    "\n",
    "Number of citations for each paper is calculated as follows:\n",
    "- Get Paper Id from title using Semantic Scholar API\n",
    "- If Paper Id is present in the 'Cited_PaperId' of other papers than increment the citation count of that paper by 1\n",
    "- If Paper Id is not present in the 'Cited_PaperId' of other papers than increment the citation count of that paper by 0\n",
    "\n"
   ]
  },
  {
   "cell_type": "code",
   "execution_count": 10,
   "metadata": {},
   "outputs": [
    {
     "name": "stdout",
     "output_type": "stream",
     "text": [
      "<class 'str'>\n"
     ]
    }
   ],
   "source": [
    "\n",
    "citation_graph=pd.read_csv('citation_data/citation_graph_2012_with_country.csv')\n",
    "citation_graph.head()\n",
    "print(type(citation_graph.loc[0,'Cited_PaperId']))"
   ]
  },
  {
   "cell_type": "code",
   "execution_count": 11,
   "metadata": {},
   "outputs": [],
   "source": [
    "# reset index\n",
    "citation_graph=citation_graph.reset_index(drop=True)"
   ]
  },
  {
   "attachments": {},
   "cell_type": "markdown",
   "metadata": {},
   "source": [
    "Conveting str into list (by default list is converted into str while saving in csv)"
   ]
  },
  {
   "cell_type": "code",
   "execution_count": 14,
   "metadata": {},
   "outputs": [
    {
     "name": "stderr",
     "output_type": "stream",
     "text": [
      "  0%|          | 0/1414 [00:00<?, ?it/s]\n"
     ]
    },
    {
     "ename": "TypeError",
     "evalue": "eval() arg 1 must be a string, bytes or code object",
     "output_type": "error",
     "traceback": [
      "\u001b[1;31m---------------------------------------------------------------------------\u001b[0m",
      "\u001b[1;31mTypeError\u001b[0m                                 Traceback (most recent call last)",
      "Cell \u001b[1;32mIn[14], line 2\u001b[0m\n\u001b[0;32m      1\u001b[0m \u001b[39mfor\u001b[39;00m i \u001b[39min\u001b[39;00m tqdm\u001b[39m.\u001b[39mtrange(\u001b[39mlen\u001b[39m(citation_graph)):\n\u001b[1;32m----> 2\u001b[0m     citation_graph\u001b[39m.\u001b[39mloc[i,\u001b[39m\"\u001b[39m\u001b[39mCited_PaperId\u001b[39m\u001b[39m\"\u001b[39m]\u001b[39m=\u001b[39m\u001b[39meval\u001b[39;49m(citation_graph\u001b[39m.\u001b[39;49mloc[i,\u001b[39m'\u001b[39;49m\u001b[39mCited_PaperId\u001b[39;49m\u001b[39m'\u001b[39;49m])\n\u001b[0;32m      3\u001b[0m citation_graph\u001b[39m.\u001b[39mhead()\n\u001b[0;32m      4\u001b[0m \u001b[39mtype\u001b[39m(citation_graph\u001b[39m.\u001b[39mloc[\u001b[39m0\u001b[39m,\u001b[39m'\u001b[39m\u001b[39mCited_PaperId\u001b[39m\u001b[39m'\u001b[39m])\n",
      "\u001b[1;31mTypeError\u001b[0m: eval() arg 1 must be a string, bytes or code object"
     ]
    }
   ],
   "source": [
    "for i in tqdm.trange(len(citation_graph)):\n",
    "    citation_graph.loc[i,\"Cited_PaperId\"]=eval(citation_graph.loc[i,'Cited_PaperId'])\n",
    "citation_graph.head()"
   ]
  },
  {
   "attachments": {},
   "cell_type": "markdown",
   "metadata": {},
   "source": [
    "Mapping the long string form PaperId to index in DataFrame"
   ]
  },
  {
   "cell_type": "code",
   "execution_count": 16,
   "metadata": {},
   "outputs": [
    {
     "name": "stderr",
     "output_type": "stream",
     "text": [
      "100%|██████████| 1414/1414 [00:00<00:00, 35314.25it/s]\n"
     ]
    }
   ],
   "source": [
    "\n",
    "id_to_index={}\n",
    "index_to_id={}\n",
    "for i in tqdm.trange(len(citation_graph)):\n",
    "    # print(citation_graph['PaperId'][i])\n",
    "    id_to_index[citation_graph.loc[i,'PaperId']]=i\n",
    "    index_to_id[i]=citation_graph.loc[i,'PaperId']\n"
   ]
  },
  {
   "cell_type": "code",
   "execution_count": 27,
   "metadata": {},
   "outputs": [
    {
     "name": "stdout",
     "output_type": "stream",
     "text": [
      "Warning: When  cdn_resources is 'local' jupyter notebook has issues displaying graphics on chrome/safari. Use cdn_resources='in_line' or cdn_resources='remote' if you have issues viewing graphics in a notebook.\n"
     ]
    }
   ],
   "source": [
    "\n",
    "graph={}\n",
    "for i in range(len(citation_graph)):\n",
    "    graph[i]={'country':'None','Cited_PaperId':[]}\n",
    "    graph[i]['country']=citation_graph.loc[i,'Country']\n",
    "    for j in citation_graph.loc[i,'Cited_PaperId']:\n",
    "        if j in id_to_index:\n",
    "            graph[i]['Cited_PaperId'].append(id_to_index[j])\n",
    "\n",
    "# save the graph as json\n",
    "with open('citation_graph_2012.json', 'w') as fp:\n",
    "    json.dump(graph, fp)\n"
   ]
  },
  {
   "attachments": {},
   "cell_type": "markdown",
   "metadata": {},
   "source": [
    "### Some stats about number of times a paper is cited\n",
    "\n",
    "While for most paper the number of times it is cited is 0, one reason could be that we are only considering papers belonging to year 2006-2012. So if a paper is getting cited after 2012 it will not be considered. Also we only considering citations amoung the dataset papers. So if a paper is cited by a paper not present in the dataset it will not be considered. \n"
   ]
  },
  {
   "cell_type": "code",
   "execution_count": 18,
   "metadata": {},
   "outputs": [
    {
     "name": "stderr",
     "output_type": "stream",
     "text": [
      "100%|██████████| 1414/1414 [00:00<00:00, 29712.86it/s]"
     ]
    },
    {
     "name": "stdout",
     "output_type": "stream",
     "text": [
      "[(287, 9), (321, 9), (520, 9), (105, 8), (46, 7), (234, 7), (296, 7), (396, 7), (565, 7), (21, 6), (30, 6), (90, 6), (163, 6), (241, 6), (262, 6), (571, 6), (703, 6), (24, 5), (191, 5), (208, 5), (237, 5), (256, 5), (266, 5), (553, 5), (555, 5), (1029, 5), (18, 4), (85, 4), (99, 4), (172, 4), (173, 4), (185, 4), (190, 4), (229, 4), (253, 4), (274, 4), (280, 4), (286, 4), (319, 4), (374, 4), (466, 4), (495, 4), (561, 4), (562, 4), (564, 4), (677, 4), (682, 4), (697, 4), (883, 4), (918, 4), (949, 4), (89, 3), (92, 3), (96, 3), (104, 3), (141, 3), (224, 3), (248, 3), (254, 3), (255, 3), (271, 3), (290, 3), (317, 3), (318, 3), (347, 3), (372, 3), (373, 3), (400, 3), (447, 3), (451, 3), (463, 3), (473, 3), (475, 3), (479, 3), (530, 3), (543, 3), (566, 3), (573, 3), (631, 3), (643, 3), (653, 3), (713, 3), (716, 3), (746, 3), (755, 3), (799, 3), (806, 3), (823, 3), (828, 3), (858, 3), (929, 3), (996, 3), (1000, 3), (1006, 3), (1050, 3), (1128, 3), (3, 2), (4, 2), (11, 2), (29, 2), (32, 2), (36, 2), (44, 2), (48, 2), (69, 2), (108, 2), (110, 2), (117, 2), (119, 2), (127, 2), (135, 2), (144, 2), (151, 2), (164, 2), (168, 2), (169, 2), (171, 2), (176, 2), (179, 2), (180, 2), (182, 2), (194, 2), (203, 2), (210, 2), (212, 2), (233, 2), (247, 2), (249, 2), (250, 2), (269, 2), (288, 2), (300, 2), (325, 2), (333, 2), (353, 2), (359, 2), (360, 2), (394, 2), (408, 2), (414, 2), (449, 2), (457, 2), (483, 2), (485, 2), (496, 2), (504, 2), (507, 2), (510, 2), (517, 2), (521, 2), (535, 2), (536, 2), (538, 2), (542, 2), (549, 2), (550, 2), (552, 2), (584, 2), (591, 2), (619, 2), (628, 2), (637, 2), (645, 2), (659, 2), (671, 2), (681, 2), (686, 2), (689, 2), (690, 2), (693, 2), (700, 2), (708, 2), (742, 2), (750, 2), (769, 2), (774, 2), (775, 2), (781, 2), (783, 2), (787, 2), (791, 2), (832, 2), (906, 2), (926, 2), (940, 2), (950, 2), (974, 2), (1026, 2), (1037, 2), (1067, 2), (1081, 2), (1089, 2), (1198, 2), (1203, 2), (1236, 2), (1365, 2), (5, 1), (9, 1), (13, 1), (23, 1), (26, 1), (35, 1), (39, 1), (41, 1), (55, 1), (56, 1), (65, 1), (67, 1), (73, 1), (74, 1), (75, 1), (77, 1), (78, 1), (79, 1), (87, 1), (88, 1), (95, 1), (102, 1), (122, 1), (124, 1), (133, 1), (138, 1), (142, 1), (145, 1), (146, 1), (149, 1), (156, 1), (160, 1), (162, 1), (170, 1), (177, 1), (197, 1), (199, 1), (200, 1), (201, 1), (207, 1), (209, 1), (211, 1), (214, 1), (215, 1), (221, 1), (230, 1), (235, 1), (236, 1), (242, 1), (244, 1), (251, 1), (257, 1), (272, 1), (277, 1), (278, 1), (279, 1), (282, 1), (291, 1), (294, 1), (304, 1), (311, 1), (323, 1), (327, 1), (331, 1), (334, 1), (336, 1), (339, 1), (361, 1), (370, 1), (376, 1), (380, 1), (383, 1), (385, 1), (391, 1), (392, 1), (401, 1), (411, 1), (415, 1), (417, 1), (430, 1), (434, 1), (436, 1), (441, 1), (443, 1), (445, 1), (446, 1), (458, 1), (459, 1), (462, 1), (468, 1), (471, 1), (474, 1), (482, 1), (487, 1), (488, 1), (489, 1), (492, 1), (501, 1), (506, 1), (513, 1), (516, 1), (519, 1), (522, 1), (528, 1), (533, 1), (546, 1), (548, 1), (551, 1), (556, 1), (563, 1), (569, 1), (574, 1), (582, 1), (585, 1), (586, 1), (587, 1), (590, 1), (592, 1), (610, 1), (612, 1), (621, 1), (622, 1), (632, 1), (638, 1), (642, 1), (649, 1), (650, 1), (656, 1), (676, 1), (705, 1), (707, 1), (719, 1), (722, 1), (724, 1), (725, 1), (728, 1), (731, 1), (735, 1), (736, 1), (737, 1), (738, 1), (740, 1), (743, 1), (745, 1), (749, 1), (763, 1), (764, 1), (766, 1), (773, 1), (777, 1), (779, 1), (780, 1), (785, 1), (789, 1), (790, 1), (792, 1), (793, 1), (794, 1), (798, 1), (800, 1), (801, 1), (808, 1), (810, 1), (826, 1), (833, 1), (834, 1), (836, 1), (840, 1), (841, 1), (843, 1), (849, 1), (851, 1), (852, 1), (854, 1), (867, 1), (871, 1), (872, 1), (877, 1), (881, 1), (886, 1), (892, 1), (898, 1), (899, 1), (908, 1), (912, 1), (915, 1), (916, 1), (920, 1), (921, 1), (922, 1), (927, 1), (928, 1), (930, 1), (935, 1), (941, 1), (955, 1), (956, 1), (966, 1), (970, 1), (976, 1), (986, 1), (994, 1), (1007, 1), (1013, 1), (1016, 1), (1020, 1), (1028, 1), (1039, 1), (1041, 1), (1055, 1), (1060, 1), (1062, 1), (1063, 1), (1064, 1), (1065, 1), (1066, 1), (1073, 1), (1077, 1), (1079, 1), (1084, 1), (1088, 1), (1093, 1), (1096, 1), (1097, 1), (1111, 1), (1142, 1), (1177, 1), (1188, 1), (1199, 1), (1222, 1), (1241, 1), (1261, 1), (1288, 1), (1305, 1), (1310, 1), (1312, 1), (1314, 1), (1342, 1), (1344, 1), (1347, 1), (1363, 1), (1388, 1), (1391, 1), (0, 0), (1, 0), (2, 0), (6, 0), (7, 0), (8, 0), (10, 0), (12, 0), (14, 0), (15, 0), (16, 0), (17, 0), (19, 0), (20, 0), (22, 0), (25, 0), (27, 0), (28, 0), (31, 0), (33, 0), (34, 0), (37, 0), (38, 0), (40, 0), (42, 0), (43, 0), (45, 0), (47, 0), (49, 0), (50, 0), (51, 0), (52, 0), (53, 0), (54, 0), (57, 0), (58, 0), (59, 0), (60, 0), (61, 0), (62, 0), (63, 0), (64, 0), (66, 0), (68, 0), (70, 0), (71, 0), (72, 0), (76, 0), (80, 0), (81, 0), (82, 0), (83, 0), (84, 0), (86, 0), (91, 0), (93, 0), (94, 0), (97, 0), (98, 0), (100, 0), (101, 0), (103, 0), (106, 0), (107, 0), (109, 0), (111, 0), (112, 0), (113, 0), (114, 0), (115, 0), (116, 0), (118, 0), (120, 0), (121, 0), (123, 0), (125, 0), (126, 0), (128, 0), (129, 0), (130, 0), (131, 0), (132, 0), (134, 0), (136, 0), (137, 0), (139, 0), (140, 0), (143, 0), (147, 0), (148, 0), (150, 0), (152, 0), (153, 0), (154, 0), (155, 0), (157, 0), (158, 0), (159, 0), (161, 0), (165, 0), (166, 0), (167, 0), (174, 0), (175, 0), (178, 0), (181, 0), (183, 0), (184, 0), (186, 0), (187, 0), (188, 0), (189, 0), (192, 0), (193, 0), (195, 0), (196, 0), (198, 0), (202, 0), (204, 0), (205, 0), (206, 0), (213, 0), (216, 0), (217, 0), (218, 0), (219, 0), (220, 0), (222, 0), (223, 0), (225, 0), (226, 0), (227, 0), (228, 0), (231, 0), (232, 0), (238, 0), (239, 0), (240, 0), (243, 0), (245, 0), (246, 0), (252, 0), (258, 0), (259, 0), (260, 0), (261, 0), (263, 0), (264, 0), (265, 0), (267, 0), (268, 0), (270, 0), (273, 0), (275, 0), (276, 0), (281, 0), (283, 0), (284, 0), (285, 0), (289, 0), (292, 0), (293, 0), (295, 0), (297, 0), (298, 0), (299, 0), (301, 0), (302, 0), (303, 0), (305, 0), (306, 0), (307, 0), (308, 0), (309, 0), (310, 0), (312, 0), (313, 0), (314, 0), (315, 0), (316, 0), (320, 0), (322, 0), (324, 0), (326, 0), (328, 0), (329, 0), (330, 0), (332, 0), (335, 0), (337, 0), (338, 0), (340, 0), (341, 0), (342, 0), (343, 0), (344, 0), (345, 0), (346, 0), (348, 0), (349, 0), (350, 0), (351, 0), (352, 0), (354, 0), (355, 0), (356, 0), (357, 0), (358, 0), (362, 0), (363, 0), (364, 0), (365, 0), (366, 0), (367, 0), (368, 0), (369, 0), (371, 0), (375, 0), (377, 0), (378, 0), (379, 0), (381, 0), (382, 0), (384, 0), (386, 0), (387, 0), (388, 0), (389, 0), (390, 0), (393, 0), (395, 0), (397, 0), (398, 0), (399, 0), (402, 0), (403, 0), (404, 0), (405, 0), (406, 0), (407, 0), (409, 0), (410, 0), (412, 0), (413, 0), (416, 0), (418, 0), (419, 0), (420, 0), (421, 0), (422, 0), (423, 0), (424, 0), (425, 0), (426, 0), (427, 0), (428, 0), (429, 0), (431, 0), (432, 0), (433, 0), (435, 0), (437, 0), (438, 0), (439, 0), (440, 0), (442, 0), (444, 0), (448, 0), (450, 0), (452, 0), (453, 0), (454, 0), (455, 0), (456, 0), (460, 0), (461, 0), (464, 0), (465, 0), (467, 0), (469, 0), (470, 0), (472, 0), (476, 0), (477, 0), (478, 0), (480, 0), (481, 0), (484, 0), (486, 0), (490, 0), (491, 0), (493, 0), (494, 0), (497, 0), (498, 0), (499, 0), (500, 0), (502, 0), (503, 0), (505, 0), (508, 0), (509, 0), (511, 0), (512, 0), (514, 0), (515, 0), (518, 0), (523, 0), (524, 0), (525, 0), (526, 0), (527, 0), (529, 0), (531, 0), (532, 0), (534, 0), (537, 0), (539, 0), (540, 0), (541, 0), (544, 0), (545, 0), (547, 0), (554, 0), (557, 0), (558, 0), (559, 0), (560, 0), (567, 0), (568, 0), (570, 0), (572, 0), (575, 0), (576, 0), (577, 0), (578, 0), (579, 0), (580, 0), (581, 0), (583, 0), (588, 0), (589, 0), (593, 0), (594, 0), (595, 0), (596, 0), (597, 0), (598, 0), (599, 0), (600, 0), (601, 0), (602, 0), (603, 0), (604, 0), (605, 0), (606, 0), (607, 0), (608, 0), (609, 0), (611, 0), (613, 0), (614, 0), (615, 0), (616, 0), (617, 0), (618, 0), (620, 0), (623, 0), (624, 0), (625, 0), (626, 0), (627, 0), (629, 0), (630, 0), (633, 0), (634, 0), (635, 0), (636, 0), (639, 0), (640, 0), (641, 0), (644, 0), (646, 0), (647, 0), (648, 0), (651, 0), (652, 0), (654, 0), (655, 0), (657, 0), (658, 0), (660, 0), (661, 0), (662, 0), (663, 0), (664, 0), (665, 0), (666, 0), (667, 0), (668, 0), (669, 0), (670, 0), (672, 0), (673, 0), (674, 0), (675, 0), (678, 0), (679, 0), (680, 0), (683, 0), (684, 0), (685, 0), (687, 0), (688, 0), (691, 0), (692, 0), (694, 0), (695, 0), (696, 0), (698, 0), (699, 0), (701, 0), (702, 0), (704, 0), (706, 0), (709, 0), (710, 0), (711, 0), (712, 0), (714, 0), (715, 0), (717, 0), (718, 0), (720, 0), (721, 0), (723, 0), (726, 0), (727, 0), (729, 0), (730, 0), (732, 0), (733, 0), (734, 0), (739, 0), (741, 0), (744, 0), (747, 0), (748, 0), (751, 0), (752, 0), (753, 0), (754, 0), (756, 0), (757, 0), (758, 0), (759, 0), (760, 0), (761, 0), (762, 0), (765, 0), (767, 0), (768, 0), (770, 0), (771, 0), (772, 0), (776, 0), (778, 0), (782, 0), (784, 0), (786, 0), (788, 0), (795, 0), (796, 0), (797, 0), (802, 0), (803, 0), (804, 0), (805, 0), (807, 0), (809, 0), (811, 0), (812, 0), (813, 0), (814, 0), (815, 0), (816, 0), (817, 0), (818, 0), (819, 0), (820, 0), (821, 0), (822, 0), (824, 0), (825, 0), (827, 0), (829, 0), (830, 0), (831, 0), (835, 0), (837, 0), (838, 0), (839, 0), (842, 0), (844, 0), (845, 0), (846, 0), (847, 0), (848, 0), (850, 0), (853, 0), (855, 0), (856, 0), (857, 0), (859, 0), (860, 0), (861, 0), (862, 0), (863, 0), (864, 0), (865, 0), (866, 0), (868, 0), (869, 0), (870, 0), (873, 0), (874, 0), (875, 0), (876, 0), (878, 0), (879, 0), (880, 0), (882, 0), (884, 0), (885, 0), (887, 0), (888, 0), (889, 0), (890, 0), (891, 0), (893, 0), (894, 0), (895, 0), (896, 0), (897, 0), (900, 0), (901, 0), (902, 0), (903, 0), (904, 0), (905, 0), (907, 0), (909, 0), (910, 0), (911, 0), (913, 0), (914, 0), (917, 0), (919, 0), (923, 0), (924, 0), (925, 0), (931, 0), (932, 0), (933, 0), (934, 0), (936, 0), (937, 0), (938, 0), (939, 0), (942, 0), (943, 0), (944, 0), (945, 0), (946, 0), (947, 0), (948, 0), (951, 0), (952, 0), (953, 0), (954, 0), (957, 0), (958, 0), (959, 0), (960, 0), (961, 0), (962, 0), (963, 0), (964, 0), (965, 0), (967, 0), (968, 0), (969, 0), (971, 0), (972, 0), (973, 0), (975, 0), (977, 0), (978, 0), (979, 0), (980, 0), (981, 0), (982, 0), (983, 0), (984, 0), (985, 0), (987, 0), (988, 0), (989, 0), (990, 0), (991, 0), (992, 0), (993, 0), (995, 0), (997, 0), (998, 0), (999, 0), (1001, 0), (1002, 0), (1003, 0), (1004, 0), (1005, 0), (1008, 0), (1009, 0), (1010, 0), (1011, 0), (1012, 0), (1014, 0), (1015, 0), (1017, 0), (1018, 0), (1019, 0), (1021, 0), (1022, 0), (1023, 0), (1024, 0), (1025, 0), (1027, 0), (1030, 0), (1031, 0), (1032, 0), (1033, 0), (1034, 0), (1035, 0), (1036, 0), (1038, 0), (1040, 0), (1042, 0), (1043, 0), (1044, 0), (1045, 0), (1046, 0), (1047, 0), (1048, 0), (1049, 0), (1051, 0), (1052, 0), (1053, 0), (1054, 0), (1056, 0), (1057, 0), (1058, 0), (1059, 0), (1061, 0), (1068, 0), (1069, 0), (1070, 0), (1071, 0), (1072, 0), (1074, 0), (1075, 0), (1076, 0), (1078, 0), (1080, 0), (1082, 0), (1083, 0), (1085, 0), (1086, 0), (1087, 0), (1090, 0), (1091, 0), (1092, 0), (1094, 0), (1095, 0), (1098, 0), (1099, 0), (1100, 0), (1101, 0), (1102, 0), (1103, 0), (1104, 0), (1105, 0), (1106, 0), (1107, 0), (1108, 0), (1109, 0), (1110, 0), (1112, 0), (1113, 0), (1114, 0), (1115, 0), (1116, 0), (1117, 0), (1118, 0), (1119, 0), (1120, 0), (1121, 0), (1122, 0), (1123, 0), (1124, 0), (1125, 0), (1126, 0), (1127, 0), (1129, 0), (1130, 0), (1131, 0), (1132, 0), (1133, 0), (1134, 0), (1135, 0), (1136, 0), (1137, 0), (1138, 0), (1139, 0), (1140, 0), (1141, 0), (1143, 0), (1144, 0), (1145, 0), (1146, 0), (1147, 0), (1148, 0), (1149, 0), (1150, 0), (1151, 0), (1152, 0), (1153, 0), (1154, 0), (1155, 0), (1156, 0), (1157, 0), (1158, 0), (1159, 0), (1160, 0), (1161, 0), (1162, 0), (1163, 0), (1164, 0), (1165, 0), (1166, 0), (1167, 0), (1168, 0), (1169, 0), (1170, 0), (1171, 0), (1172, 0), (1173, 0), (1174, 0), (1175, 0), (1176, 0), (1178, 0), (1179, 0), (1180, 0), (1181, 0), (1182, 0), (1183, 0), (1184, 0), (1185, 0), (1186, 0), (1187, 0), (1189, 0), (1190, 0), (1191, 0), (1192, 0), (1193, 0), (1194, 0), (1195, 0), (1196, 0), (1197, 0), (1200, 0), (1201, 0), (1202, 0), (1204, 0), (1205, 0), (1206, 0), (1207, 0), (1208, 0), (1209, 0), (1210, 0), (1211, 0), (1212, 0), (1213, 0), (1214, 0), (1215, 0), (1216, 0), (1217, 0), (1218, 0), (1219, 0), (1220, 0), (1221, 0), (1223, 0), (1224, 0), (1225, 0), (1226, 0), (1227, 0), (1228, 0), (1229, 0), (1230, 0), (1231, 0), (1232, 0), (1233, 0), (1234, 0), (1235, 0), (1237, 0), (1238, 0), (1239, 0), (1240, 0), (1242, 0), (1243, 0), (1244, 0), (1245, 0), (1246, 0), (1247, 0), (1248, 0), (1249, 0), (1250, 0), (1251, 0), (1252, 0), (1253, 0), (1254, 0), (1255, 0), (1256, 0), (1257, 0), (1258, 0), (1259, 0), (1260, 0), (1262, 0), (1263, 0), (1264, 0), (1265, 0), (1266, 0), (1267, 0), (1268, 0), (1269, 0), (1270, 0), (1271, 0), (1272, 0), (1273, 0), (1274, 0), (1275, 0), (1276, 0), (1277, 0), (1278, 0), (1279, 0), (1280, 0), (1281, 0), (1282, 0), (1283, 0), (1284, 0), (1285, 0), (1286, 0), (1287, 0), (1289, 0), (1290, 0), (1291, 0), (1292, 0), (1293, 0), (1294, 0), (1295, 0), (1296, 0), (1297, 0), (1298, 0), (1299, 0), (1300, 0), (1301, 0), (1302, 0), (1303, 0), (1304, 0), (1306, 0), (1307, 0), (1308, 0), (1309, 0), (1311, 0), (1313, 0), (1315, 0), (1316, 0), (1317, 0), (1318, 0), (1319, 0), (1320, 0), (1321, 0), (1322, 0), (1323, 0), (1324, 0), (1325, 0), (1326, 0), (1327, 0), (1328, 0), (1329, 0), (1330, 0), (1331, 0), (1332, 0), (1333, 0), (1334, 0), (1335, 0), (1336, 0), (1337, 0), (1338, 0), (1339, 0), (1340, 0), (1341, 0), (1343, 0), (1345, 0), (1346, 0), (1348, 0), (1349, 0), (1350, 0), (1351, 0), (1352, 0), (1353, 0), (1354, 0), (1355, 0), (1356, 0), (1357, 0), (1358, 0), (1359, 0), (1360, 0), (1361, 0), (1362, 0), (1364, 0), (1366, 0), (1367, 0), (1368, 0), (1369, 0), (1370, 0), (1371, 0), (1372, 0), (1373, 0), (1374, 0), (1375, 0), (1376, 0), (1377, 0), (1378, 0), (1379, 0), (1380, 0), (1381, 0), (1382, 0), (1383, 0), (1384, 0), (1385, 0), (1386, 0), (1387, 0), (1389, 0), (1390, 0), (1392, 0), (1393, 0), (1394, 0), (1395, 0), (1396, 0), (1397, 0), (1398, 0), (1399, 0), (1400, 0), (1401, 0), (1402, 0), (1403, 0), (1404, 0), (1405, 0), (1406, 0), (1407, 0), (1408, 0), (1409, 0), (1410, 0), (1411, 0), (1412, 0), (1413, 0)]\n"
     ]
    },
    {
     "name": "stderr",
     "output_type": "stream",
     "text": [
      "\n"
     ]
    },
    {
     "data": {
      "text/plain": [
       "Text(0.5, 1.0, 'Citation count of papers')"
      ]
     },
     "execution_count": 18,
     "metadata": {},
     "output_type": "execute_result"
    },
    {
     "data": {
      "image/png": "[encoded data removed]",
      "text/plain": [
       "<Figure size 1500x500 with 1 Axes>"
      ]
     },
     "metadata": {},
     "output_type": "display_data"
    }
   ],
   "source": [
    "# count of papers which are cited by other papers\n",
    "citation_count={}\n",
    "for i in tqdm.trange(len(citation_graph)):\n",
    "    citation_count[i]=0\n",
    "    for j in citation_graph.loc[i,'Cited_PaperId']:\n",
    "        if j in id_to_index:\n",
    "            citation_count[i]=citation_count[i]+1\n",
    "\n",
    "\n",
    "\n",
    "# sort the citation count\n",
    "sorted_citation_count=sorted(citation_count.items(), key=lambda x: x[1],reverse=True)\n",
    "print(sorted_citation_count)\n",
    "\n",
    "# plot the citation count\n",
    "plt.figure(figsize=(15,5))\n",
    "# frequency of citation count\n",
    "plt.hist(citation_count.values(),bins=100)\n",
    "plt.xlabel('Citation count')\n",
    "plt.title('Citation count of papers')\n"
   ]
  },
  {
   "attachments": {},
   "cell_type": "markdown",
   "metadata": {},
   "source": [
    "Top 10 countries with most number of papers will be assigned a unique color and rest will be assigned a common color"
   ]
  },
  {
   "cell_type": "code",
   "execution_count": 23,
   "metadata": {},
   "outputs": [
    {
     "data": {
      "text/plain": [
       "Index(['United States', 'United Kingdom', 'Germany', 'Canada', 'France',\n",
       "       'Italy', 'China', 'Israel', 'Australia', 'Switzerland'],\n",
       "      dtype='object')"
      ]
     },
     "execution_count": 23,
     "metadata": {},
     "output_type": "execute_result"
    }
   ],
   "source": [
    "\n",
    "top_10_countries=citation_graph['Country'].value_counts()[:10].index\n",
    "top_10_countries"
   ]
  },
  {
   "attachments": {},
   "cell_type": "markdown",
   "metadata": {},
   "source": [
    "Top 10 countries with most papers make up around 87% of the total papers"
   ]
  },
  {
   "cell_type": "code",
   "execution_count": 40,
   "metadata": {},
   "outputs": [
    {
     "name": "stdout",
     "output_type": "stream",
     "text": [
      "87.41159830268741\n"
     ]
    }
   ],
   "source": [
    "print(100*np.sum(citation_graph['Country'].value_counts()[:10])/len(citation_graph))"
   ]
  },
  {
   "attachments": {},
   "cell_type": "markdown",
   "metadata": {},
   "source": [
    "Size of node is proportional to number of times a paper is cited .Color of node is based on country of paper"
   ]
  },
  {
   "cell_type": "code",
   "execution_count": 29,
   "metadata": {},
   "outputs": [],
   "source": [
    "from pyvis.network import Network\n",
    "net=Network(notebook=True)\n",
    "for node in graph:\n",
    "    group=graph[node]['country']\n",
    "    if group in top_10_countries:\n",
    "        # change str to index in top 10 countries\n",
    "        group=top_10_countries.get_loc(group)\n",
    "    else:\n",
    "        group=10\n",
    "    net.add_node(node,size=citation_count[node],group=group)\n",
    "\n",
    "\n",
    "# add edges\n",
    "for node in graph:\n",
    "    \n",
    "    for edge in graph[node]['Cited_PaperId']:\n",
    "        net.add_edge(node,edge)\n",
    "\n",
    "net.show_buttons(filter_=['physics'])\n",
    "net.save_graph('citation_data/citation_graph_2012_2.html')\n"
   ]
  },
  {
   "attachments": {},
   "cell_type": "markdown",
   "metadata": {},
   "source": [
    "### Authors with most papers"
   ]
  },
  {
   "cell_type": "code",
   "execution_count": 31,
   "metadata": {},
   "outputs": [
    {
     "name": "stderr",
     "output_type": "stream",
     "text": [
      "100%|██████████| 49317/49317 [00:01<00:00, 48223.73it/s]\n"
     ]
    }
   ],
   "source": [
    "author_count={}\n",
    "\n",
    "for i in tqdm.tqdm(range(len(df))):\n",
    "    author=df.loc[i,'Author']\n",
    "    author_count[author]=author_count.get(author,0)+1\n",
    "# top 100 authors\n",
    "sorted_author_count=sorted(author_count.items(),key=lambda x:x[1],reverse=True)\n",
    "sorted_author_count\n",
    "# save as json\n",
    "with open('citation_data/author_count.json','w') as f:\n",
    "    json.dump(sorted_author_count,f)\n"
   ]
  },
  {
   "cell_type": "code",
   "execution_count": 32,
   "metadata": {},
   "outputs": [],
   "source": [
    "top_100_authors=sorted_author_count[:100]"
   ]
  },
  {
   "attachments": {},
   "cell_type": "markdown",
   "metadata": {},
   "source": [
    "### Top 10 Authors with most papers"
   ]
  },
  {
   "cell_type": "code",
   "execution_count": 42,
   "metadata": {},
   "outputs": [
    {
     "data": {
      "text/plain": [
       "[('Sergey Levine', 102),\n",
       " ('Yoshua Bengio', 89),\n",
       " ('Michael Jordan', 88),\n",
       " ('Pieter Abbeel', 76),\n",
       " ('Lawrence Carin', 76),\n",
       " ('Masashi Sugiyama', 63),\n",
       " ('Francis Bach', 63),\n",
       " ('Le Song', 61),\n",
       " ('Pradeep Ravikumar', 60),\n",
       " ('Remi Munos', 58)]"
      ]
     },
     "execution_count": 42,
     "metadata": {},
     "output_type": "execute_result"
    }
   ],
   "source": [
    "top_10_authors=top_100_authors[:10]\n",
    "top_10_authors"
   ]
  },
  {
   "attachments": {},
   "cell_type": "markdown",
   "metadata": {},
   "source": [
    "### Collaborations network for top 100 authors\n",
    "- Edge: If two authors have collaborated on a paper\n",
    "- Weight of edge : Number of times they have collaborated\n",
    "- Size of node : Number of papers written by author"
   ]
  },
  {
   "attachments": {},
   "cell_type": "markdown",
   "metadata": {},
   "source": [
    "Getting the number of papers on which two authors have collaborated on all combinations of top 100 authors."
   ]
  },
  {
   "cell_type": "code",
   "execution_count": 33,
   "metadata": {},
   "outputs": [
    {
     "data": {
      "text/html": [
       "<div>\n",
       "<style scoped>\n",
       "    .dataframe tbody tr th:only-of-type {\n",
       "        vertical-align: middle;\n",
       "    }\n",
       "\n",
       "    .dataframe tbody tr th {\n",
       "        vertical-align: top;\n",
       "    }\n",
       "\n",
       "    .dataframe thead th {\n",
       "        text-align: right;\n",
       "    }\n",
       "</style>\n",
       "<table border=\"1\" class=\"dataframe\">\n",
       "  <thead>\n",
       "    <tr style=\"text-align: right;\">\n",
       "      <th></th>\n",
       "      <th>Author1</th>\n",
       "      <th>Author2</th>\n",
       "      <th>Weight</th>\n",
       "    </tr>\n",
       "  </thead>\n",
       "  <tbody>\n",
       "    <tr>\n",
       "      <th>159</th>\n",
       "      <td>Tie-Yan Liu</td>\n",
       "      <td>Tao Qin</td>\n",
       "      <td>34</td>\n",
       "    </tr>\n",
       "    <tr>\n",
       "      <th>290</th>\n",
       "      <td>Tao Qin</td>\n",
       "      <td>Tie-Yan Liu</td>\n",
       "      <td>34</td>\n",
       "    </tr>\n",
       "    <tr>\n",
       "      <th>449</th>\n",
       "      <td>Gang Niu</td>\n",
       "      <td>Masashi Sugiyama</td>\n",
       "      <td>28</td>\n",
       "    </tr>\n",
       "    <tr>\n",
       "      <th>36</th>\n",
       "      <td>Masashi Sugiyama</td>\n",
       "      <td>Gang Niu</td>\n",
       "      <td>28</td>\n",
       "    </tr>\n",
       "    <tr>\n",
       "      <th>211</th>\n",
       "      <td>Zhaoran Wang</td>\n",
       "      <td>Zhuoran Yang</td>\n",
       "      <td>26</td>\n",
       "    </tr>\n",
       "    <tr>\n",
       "      <th>...</th>\n",
       "      <td>...</td>\n",
       "      <td>...</td>\n",
       "      <td>...</td>\n",
       "    </tr>\n",
       "    <tr>\n",
       "      <th>230</th>\n",
       "      <td>Pushmeet Kohli</td>\n",
       "      <td>Antonio Torralba</td>\n",
       "      <td>1</td>\n",
       "    </tr>\n",
       "    <tr>\n",
       "      <th>229</th>\n",
       "      <td>Pushmeet Kohli</td>\n",
       "      <td>Mohammad Norouzi</td>\n",
       "      <td>1</td>\n",
       "    </tr>\n",
       "    <tr>\n",
       "      <th>228</th>\n",
       "      <td>Pushmeet Kohli</td>\n",
       "      <td>Shimon Whiteson</td>\n",
       "      <td>1</td>\n",
       "    </tr>\n",
       "    <tr>\n",
       "      <th>227</th>\n",
       "      <td>Pushmeet Kohli</td>\n",
       "      <td>Oriol Vinyals</td>\n",
       "      <td>1</td>\n",
       "    </tr>\n",
       "    <tr>\n",
       "      <th>519</th>\n",
       "      <td>Razvan Pascanu</td>\n",
       "      <td>David Silver</td>\n",
       "      <td>1</td>\n",
       "    </tr>\n",
       "  </tbody>\n",
       "</table>\n",
       "<p>520 rows × 3 columns</p>\n",
       "</div>"
      ],
      "text/plain": [
       "              Author1           Author2  Weight\n",
       "159       Tie-Yan Liu           Tao Qin      34\n",
       "290           Tao Qin       Tie-Yan Liu      34\n",
       "449          Gang Niu  Masashi Sugiyama      28\n",
       "36   Masashi Sugiyama          Gang Niu      28\n",
       "211      Zhaoran Wang      Zhuoran Yang      26\n",
       "..                ...               ...     ...\n",
       "230    Pushmeet Kohli  Antonio Torralba       1\n",
       "229    Pushmeet Kohli  Mohammad Norouzi       1\n",
       "228    Pushmeet Kohli   Shimon Whiteson       1\n",
       "227    Pushmeet Kohli     Oriol Vinyals       1\n",
       "519    Razvan Pascanu      David Silver       1\n",
       "\n",
       "[520 rows x 3 columns]"
      ]
     },
     "execution_count": 33,
     "metadata": {},
     "output_type": "execute_result"
    }
   ],
   "source": [
    "\n",
    "collobration=pd.DataFrame(columns=['Author1','Author2','Weight'])\n",
    "\n",
    "for author1 in top_100_authors:\n",
    "    for author2 in top_100_authors:\n",
    "        if(author1!=author2):\n",
    "            # find number of papers they worked on together using title\n",
    "            \n",
    "            title1=df[df['Author']==author1[0]]['Title']\n",
    "            title2=df[df['Author']==author2[0]]['Title']\n",
    "            \n",
    "            common_papers=len(set(title1).intersection(set(title2)))\n",
    "            if(common_papers>0):\n",
    "                collobration.loc[len(collobration)]=[author1[0],author2[0],common_papers]\n",
    "collobration=collobration.sort_values(by='Weight',ascending=False)\n",
    "collobration.head()\n",
    "# collobration.to_csv('citation_data/collobration.csv',index=False)\n",
    "collobration=pd.read_csv('citation_data/collobration.csv')\n"
   ]
  },
  {
   "cell_type": "code",
   "execution_count": 34,
   "metadata": {},
   "outputs": [],
   "source": [
    "# remove 1 from weight\n",
    "collobration['Weight']=collobration['Weight']-1\n",
    "# covnert int64 to int32\n",
    "collobration['Weight']=collobration['Weight'].astype('int32')"
   ]
  },
  {
   "attachments": {},
   "cell_type": "markdown",
   "metadata": {},
   "source": [
    "### Creating Colloborative Network"
   ]
  },
  {
   "cell_type": "code",
   "execution_count": 36,
   "metadata": {},
   "outputs": [
    {
     "name": "stdout",
     "output_type": "stream",
     "text": [
      "Warning: When  cdn_resources is 'local' jupyter notebook has issues displaying graphics on chrome/safari. Use cdn_resources='in_line' or cdn_resources='remote' if you have issues viewing graphics in a notebook.\n"
     ]
    }
   ],
   "source": [
    "from pyvis.network import Network\n",
    "net = Network(notebook=True)\n",
    "\n",
    "\n",
    "for author in top_100_authors:\n",
    "    net.add_node(author[0], size=author[1])\n",
    "\n",
    "for i in range(len(collobration)):\n",
    "    net.add_edge(collobration.loc[i,'Author1'], collobration.loc[i,'Author2'],value=int(collobration.loc[i,'Weight']))\n",
    "\n",
    "net.save_graph(\"citation_data/collobration2.html\")\n",
    "\n"
   ]
  },
  {
   "cell_type": "code",
   "execution_count": null,
   "metadata": {},
   "outputs": [],
   "source": []
  }
 ],
 "metadata": {
  "kernelspec": {
   "display_name": "Python 3",
   "language": "python",
   "name": "python3"
  },
  "language_info": {
   "codemirror_mode": {
    "name": "ipython",
    "version": 3
   },
   "file_extension": ".py",
   "mimetype": "text/x-python",
   "name": "python",
   "nbconvert_exporter": "python",
   "pygments_lexer": "ipython3",
   "version": "3.11.1"
  },
  "orig_nbformat": 4
 },
 "nbformat": 4,
 "nbformat_minor": 2
}

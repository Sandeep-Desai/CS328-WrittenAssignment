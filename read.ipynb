{
 "cells": [
  {
   "cell_type": "code",
   "execution_count": 90,
   "metadata": {},
   "outputs": [
    {
     "data": {
      "text/html": [
       "<div>\n",
       "<style scoped>\n",
       "    .dataframe tbody tr th:only-of-type {\n",
       "        vertical-align: middle;\n",
       "    }\n",
       "\n",
       "    .dataframe tbody tr th {\n",
       "        vertical-align: top;\n",
       "    }\n",
       "\n",
       "    .dataframe thead th {\n",
       "        text-align: right;\n",
       "    }\n",
       "</style>\n",
       "<table border=\"1\" class=\"dataframe\">\n",
       "  <thead>\n",
       "    <tr style=\"text-align: right;\">\n",
       "      <th></th>\n",
       "      <th>Conference</th>\n",
       "      <th>Year</th>\n",
       "      <th>Title</th>\n",
       "      <th>Author</th>\n",
       "      <th>Affiliation</th>\n",
       "    </tr>\n",
       "  </thead>\n",
       "  <tbody>\n",
       "    <tr>\n",
       "      <th>0</th>\n",
       "      <td>NeurIPS</td>\n",
       "      <td>2006</td>\n",
       "      <td>Attentional Processing on a Spike-Based VLSI N...</td>\n",
       "      <td>Yingxue Wang</td>\n",
       "      <td>Swiss Federal Institute of Technology, Zurich</td>\n",
       "    </tr>\n",
       "    <tr>\n",
       "      <th>1</th>\n",
       "      <td>NeurIPS</td>\n",
       "      <td>2006</td>\n",
       "      <td>Attentional Processing on a Spike-Based VLSI N...</td>\n",
       "      <td>Rodney J Douglas</td>\n",
       "      <td>Institute of Neuroinformatics</td>\n",
       "    </tr>\n",
       "    <tr>\n",
       "      <th>2</th>\n",
       "      <td>NeurIPS</td>\n",
       "      <td>2006</td>\n",
       "      <td>Attentional Processing on a Spike-Based VLSI N...</td>\n",
       "      <td>Shih-Chii Liu</td>\n",
       "      <td>Institute for Neuroinformatics, University of ...</td>\n",
       "    </tr>\n",
       "    <tr>\n",
       "      <th>3</th>\n",
       "      <td>NeurIPS</td>\n",
       "      <td>2006</td>\n",
       "      <td>Multi-Task Feature Learning</td>\n",
       "      <td>Andreas Argyriou</td>\n",
       "      <td>Ecole Centrale de Paris</td>\n",
       "    </tr>\n",
       "    <tr>\n",
       "      <th>4</th>\n",
       "      <td>NeurIPS</td>\n",
       "      <td>2006</td>\n",
       "      <td>Multi-Task Feature Learning</td>\n",
       "      <td>Theos Evgeniou</td>\n",
       "      <td>INSEAD</td>\n",
       "    </tr>\n",
       "  </tbody>\n",
       "</table>\n",
       "</div>"
      ],
      "text/plain": [
       "  Conference  Year                                              Title  \\\n",
       "0    NeurIPS  2006  Attentional Processing on a Spike-Based VLSI N...   \n",
       "1    NeurIPS  2006  Attentional Processing on a Spike-Based VLSI N...   \n",
       "2    NeurIPS  2006  Attentional Processing on a Spike-Based VLSI N...   \n",
       "3    NeurIPS  2006                        Multi-Task Feature Learning   \n",
       "4    NeurIPS  2006                        Multi-Task Feature Learning   \n",
       "\n",
       "             Author                                        Affiliation  \n",
       "0      Yingxue Wang      Swiss Federal Institute of Technology, Zurich  \n",
       "1  Rodney J Douglas                      Institute of Neuroinformatics  \n",
       "2     Shih-Chii Liu  Institute for Neuroinformatics, University of ...  \n",
       "3  Andreas Argyriou                            Ecole Centrale de Paris  \n",
       "4    Theos Evgeniou                                             INSEAD  "
      ]
     },
     "execution_count": 90,
     "metadata": {},
     "output_type": "execute_result"
    }
   ],
   "source": [
    "import pandas as pd\n",
    "\n",
    "df = pd.read_csv('papers.csv')\n",
    "\n",
    "df.head()"
   ]
  },
  {
   "cell_type": "code",
   "execution_count": 91,
   "metadata": {},
   "outputs": [
    {
     "data": {
      "text/plain": [
       "Index(['Conference', 'Year', 'Title', 'Author', 'Affiliation'], dtype='object')"
      ]
     },
     "execution_count": 91,
     "metadata": {},
     "output_type": "execute_result"
    }
   ],
   "source": [
    "# features \n",
    "df.columns"
   ]
  },
  {
   "cell_type": "code",
   "execution_count": 92,
   "metadata": {},
   "outputs": [
    {
     "data": {
      "text/plain": [
       "array(['NeurIPS', 'ICML', 'ICLR'], dtype=object)"
      ]
     },
     "execution_count": 92,
     "metadata": {},
     "output_type": "execute_result"
    }
   ],
   "source": [
    "# Unique conferences\n",
    "df['Conference'].unique()"
   ]
  },
  {
   "cell_type": "code",
   "execution_count": 93,
   "metadata": {},
   "outputs": [
    {
     "data": {
      "text/plain": [
       "NeurIPS    30912\n",
       "ICML       11022\n",
       "ICLR        7383\n",
       "Name: Conference, dtype: int64"
      ]
     },
     "execution_count": 93,
     "metadata": {},
     "output_type": "execute_result"
    }
   ],
   "source": [
    "# Number of papers per conference\n",
    "df['Conference'].value_counts()\n"
   ]
  },
  {
   "cell_type": "code",
   "execution_count": 94,
   "metadata": {},
   "outputs": [
    {
     "data": {
      "text/plain": [
       "<AxesSubplot: >"
      ]
     },
     "execution_count": 94,
     "metadata": {},
     "output_type": "execute_result"
    },
    {
     "data": {
      "image/png": "[encoded data removed]",
      "text/plain": [
       "<Figure size 640x480 with 1 Axes>"
      ]
     },
     "metadata": {},
     "output_type": "display_data"
    }
   ],
   "source": [
    "# bar graph of papers per conference with different colors\n",
    "\n",
    "df['Conference'].value_counts().plot(kind='bar',color=['red','blue','green'])\n"
   ]
  },
  {
   "cell_type": "code",
   "execution_count": 95,
   "metadata": {},
   "outputs": [
    {
     "data": {
      "text/plain": [
       "2020    12017\n",
       "2019    10596\n",
       "2018     7560\n",
       "2017     4085\n",
       "2021     3836\n",
       "2016     1956\n",
       "2015     1321\n",
       "2014     1288\n",
       "2012     1103\n",
       "2013     1094\n",
       "2011      880\n",
       "2010      859\n",
       "2009      787\n",
       "2008      736\n",
       "2007      633\n",
       "2006      566\n",
       "Name: Year, dtype: int64"
      ]
     },
     "execution_count": 95,
     "metadata": {},
     "output_type": "execute_result"
    }
   ],
   "source": [
    "# year of publication\n",
    "df['Year'].value_counts()"
   ]
  },
  {
   "cell_type": "code",
   "execution_count": 96,
   "metadata": {},
   "outputs": [
    {
     "data": {
      "text/plain": [
       "<AxesSubplot: >"
      ]
     },
     "execution_count": 96,
     "metadata": {},
     "output_type": "execute_result"
    },
    {
     "data": {
      "image/png": "[encoded data removed]",
      "text/plain": [
       "<Figure size 640x480 with 1 Axes>"
      ]
     },
     "metadata": {},
     "output_type": "display_data"
    }
   ],
   "source": [
    "# bar graph of papers per year \n",
    "# sort from oldest to newest\n",
    "df['Year'].value_counts().sort_index().plot(kind='bar')\n"
   ]
  },
  {
   "cell_type": "code",
   "execution_count": 97,
   "metadata": {},
   "outputs": [
    {
     "data": {
      "text/plain": [
       "(5329,)"
      ]
     },
     "execution_count": 97,
     "metadata": {},
     "output_type": "execute_result"
    }
   ],
   "source": [
    "df['Affiliation'].unique().shape"
   ]
  },
  {
   "cell_type": "code",
   "execution_count": 98,
   "metadata": {},
   "outputs": [
    {
     "data": {
      "text/plain": [
       "Stanford University           1284\n",
       "Google                        1192\n",
       "DeepMind                      1191\n",
       "Carnegie Mellon University    1132\n",
       "UC Berkeley                   1064\n",
       "MIT                           1003\n",
       "Microsoft Research             732\n",
       "Google Brain                   703\n",
       "None                           689\n",
       "Princeton University           566\n",
       "Name: Affiliation, dtype: int64"
      ]
     },
     "execution_count": 98,
     "metadata": {},
     "output_type": "execute_result"
    }
   ],
   "source": [
    "# top ten most common affiliations\n",
    "df['Affiliation'].value_counts().head(10)"
   ]
  },
  {
   "cell_type": "code",
   "execution_count": 99,
   "metadata": {},
   "outputs": [
    {
     "data": {
      "text/plain": [
       "<AxesSubplot: ylabel='Affiliation'>"
      ]
     },
     "execution_count": 99,
     "metadata": {},
     "output_type": "execute_result"
    },
    {
     "data": {
      "image/png": "[encoded data removed]",
      "text/plain": [
       "<Figure size 640x480 with 1 Axes>"
      ]
     },
     "metadata": {},
     "output_type": "display_data"
    }
   ],
   "source": [
    "# pie chart of top ten affiliations with labelled percentages\n",
    "df['Affiliation'].value_counts().head(10).plot(kind='pie',autopct='%1.1f%%')"
   ]
  },
  {
   "cell_type": "code",
   "execution_count": 100,
   "metadata": {},
   "outputs": [
    {
     "data": {
      "text/html": [
       "<div>\n",
       "<style scoped>\n",
       "    .dataframe tbody tr th:only-of-type {\n",
       "        vertical-align: middle;\n",
       "    }\n",
       "\n",
       "    .dataframe tbody tr th {\n",
       "        vertical-align: top;\n",
       "    }\n",
       "\n",
       "    .dataframe thead th {\n",
       "        text-align: right;\n",
       "    }\n",
       "</style>\n",
       "<table border=\"1\" class=\"dataframe\">\n",
       "  <thead>\n",
       "    <tr style=\"text-align: right;\">\n",
       "      <th></th>\n",
       "      <th>Conference</th>\n",
       "      <th>Year</th>\n",
       "      <th>Title</th>\n",
       "      <th>Author</th>\n",
       "      <th>Affiliation</th>\n",
       "    </tr>\n",
       "  </thead>\n",
       "  <tbody>\n",
       "    <tr>\n",
       "      <th>11</th>\n",
       "      <td>NeurIPS</td>\n",
       "      <td>2006</td>\n",
       "      <td>Comparative Gene Prediction using Conditional ...</td>\n",
       "      <td>David DeCaprio</td>\n",
       "      <td>None</td>\n",
       "    </tr>\n",
       "    <tr>\n",
       "      <th>12</th>\n",
       "      <td>NeurIPS</td>\n",
       "      <td>2006</td>\n",
       "      <td>Comparative Gene Prediction using Conditional ...</td>\n",
       "      <td>Stacey Luoma</td>\n",
       "      <td>None</td>\n",
       "    </tr>\n",
       "    <tr>\n",
       "      <th>33</th>\n",
       "      <td>NeurIPS</td>\n",
       "      <td>2006</td>\n",
       "      <td>Training Conditional Random Fields for Maximum...</td>\n",
       "      <td>Serafim Batzoglou</td>\n",
       "      <td>None</td>\n",
       "    </tr>\n",
       "    <tr>\n",
       "      <th>40</th>\n",
       "      <td>NeurIPS</td>\n",
       "      <td>2006</td>\n",
       "      <td>implicit Online Learning with Kernels</td>\n",
       "      <td>Terry Caelli</td>\n",
       "      <td>None</td>\n",
       "    </tr>\n",
       "    <tr>\n",
       "      <th>54</th>\n",
       "      <td>NeurIPS</td>\n",
       "      <td>2006</td>\n",
       "      <td>Efficient Methods for Privacy Preserving Class...</td>\n",
       "      <td>Moshe Butman</td>\n",
       "      <td>None</td>\n",
       "    </tr>\n",
       "    <tr>\n",
       "      <th>...</th>\n",
       "      <td>...</td>\n",
       "      <td>...</td>\n",
       "      <td>...</td>\n",
       "      <td>...</td>\n",
       "      <td>...</td>\n",
       "    </tr>\n",
       "    <tr>\n",
       "      <th>24992</th>\n",
       "      <td>ICLR</td>\n",
       "      <td>2019</td>\n",
       "      <td>Bayesian Policy Optimization for Model Uncerta...</td>\n",
       "      <td>Siddhartha Srinivasa</td>\n",
       "      <td>None</td>\n",
       "    </tr>\n",
       "    <tr>\n",
       "      <th>25000</th>\n",
       "      <td>ICLR</td>\n",
       "      <td>2019</td>\n",
       "      <td>Accumulation Bit-Width Scaling For Ultra-Low P...</td>\n",
       "      <td>Ankur Agrawal</td>\n",
       "      <td>None</td>\n",
       "    </tr>\n",
       "    <tr>\n",
       "      <th>25022</th>\n",
       "      <td>ICML</td>\n",
       "      <td>2019</td>\n",
       "      <td>Training Neural Networks with Local Error Signals</td>\n",
       "      <td>Lars Hiller Eidnes</td>\n",
       "      <td>None</td>\n",
       "    </tr>\n",
       "    <tr>\n",
       "      <th>45290</th>\n",
       "      <td>NeurIPS</td>\n",
       "      <td>2020</td>\n",
       "      <td>Ridge Rider: Finding Diverse Solutions by Foll...</td>\n",
       "      <td>Alistair Letcher</td>\n",
       "      <td>None</td>\n",
       "    </tr>\n",
       "    <tr>\n",
       "      <th>45855</th>\n",
       "      <td>ICLR</td>\n",
       "      <td>2021</td>\n",
       "      <td>On the Impossibility of Global Convergence in ...</td>\n",
       "      <td>Alistair Letcher</td>\n",
       "      <td>None</td>\n",
       "    </tr>\n",
       "  </tbody>\n",
       "</table>\n",
       "<p>689 rows × 5 columns</p>\n",
       "</div>"
      ],
      "text/plain": [
       "      Conference  Year                                              Title  \\\n",
       "11       NeurIPS  2006  Comparative Gene Prediction using Conditional ...   \n",
       "12       NeurIPS  2006  Comparative Gene Prediction using Conditional ...   \n",
       "33       NeurIPS  2006  Training Conditional Random Fields for Maximum...   \n",
       "40       NeurIPS  2006              implicit Online Learning with Kernels   \n",
       "54       NeurIPS  2006  Efficient Methods for Privacy Preserving Class...   \n",
       "...          ...   ...                                                ...   \n",
       "24992       ICLR  2019  Bayesian Policy Optimization for Model Uncerta...   \n",
       "25000       ICLR  2019  Accumulation Bit-Width Scaling For Ultra-Low P...   \n",
       "25022       ICML  2019  Training Neural Networks with Local Error Signals   \n",
       "45290    NeurIPS  2020  Ridge Rider: Finding Diverse Solutions by Foll...   \n",
       "45855       ICLR  2021  On the Impossibility of Global Convergence in ...   \n",
       "\n",
       "                     Author Affiliation  \n",
       "11           David DeCaprio        None  \n",
       "12             Stacey Luoma        None  \n",
       "33        Serafim Batzoglou        None  \n",
       "40             Terry Caelli        None  \n",
       "54             Moshe Butman        None  \n",
       "...                     ...         ...  \n",
       "24992  Siddhartha Srinivasa        None  \n",
       "25000         Ankur Agrawal        None  \n",
       "25022    Lars Hiller Eidnes        None  \n",
       "45290      Alistair Letcher        None  \n",
       "45855      Alistair Letcher        None  \n",
       "\n",
       "[689 rows x 5 columns]"
      ]
     },
     "execution_count": 100,
     "metadata": {},
     "output_type": "execute_result"
    }
   ],
   "source": [
    "# find all none affiliations\n",
    "df[df['Affiliation'] == 'None']"
   ]
  },
  {
   "cell_type": "code",
   "execution_count": 101,
   "metadata": {},
   "outputs": [],
   "source": [
    "\n",
    "# concatenate all title into one string\n",
    "# sample only 5000 titles from the dataset\n",
    "text_data = ' '.join(df['Title'].sample(5000))\n"
   ]
  },
  {
   "cell_type": "code",
   "execution_count": 102,
   "metadata": {},
   "outputs": [],
   "source": [
    "# export string to text file\n",
    "with open('text_data.txt', 'w',encoding='utf-8') as f:\n",
    "    f.write(text_data)\n",
    "\n"
   ]
  },
  {
   "cell_type": "code",
   "execution_count": 115,
   "metadata": {},
   "outputs": [],
   "source": [
    "import requests\n",
    "import json\n",
    "\n"
   ]
  },
  {
   "cell_type": "code",
   "execution_count": 210,
   "metadata": {},
   "outputs": [
    {
     "name": "stderr",
     "output_type": "stream",
     "text": [
      "  7%|▋         | 1/15 [00:02<00:36,  2.63s/it]"
     ]
    },
    {
     "name": "stdout",
     "output_type": "stream",
     "text": [
      "Error\n"
     ]
    },
    {
     "name": "stderr",
     "output_type": "stream",
     "text": [
      " 13%|█▎        | 2/15 [00:03<00:24,  1.88s/it]"
     ]
    },
    {
     "name": "stdout",
     "output_type": "stream",
     "text": [
      "Error\n"
     ]
    },
    {
     "name": "stderr",
     "output_type": "stream",
     "text": [
      " 20%|██        | 3/15 [00:05<00:20,  1.69s/it]"
     ]
    },
    {
     "name": "stdout",
     "output_type": "stream",
     "text": [
      "Error\n"
     ]
    },
    {
     "name": "stderr",
     "output_type": "stream",
     "text": [
      " 27%|██▋       | 4/15 [00:08<00:22,  2.06s/it]"
     ]
    },
    {
     "name": "stdout",
     "output_type": "stream",
     "text": [
      "Multitask Feature Learning as Multiobjective Optimization: A New Genetic Programming Approach to Image Classification.\n",
      "Fetched paper  Andreas Argyriou\n",
      "Original Paper  [{'authorId': '151479922', 'name': 'Ying Bi'}, {'authorId': '144395433', 'name': 'Bing Xue'}, {'authorId': '145269712', 'name': 'Mengjie Zhang'}]\n",
      "\n"
     ]
    },
    {
     "name": "stderr",
     "output_type": "stream",
     "text": [
      " 33%|███▎      | 5/15 [00:10<00:22,  2.24s/it]"
     ]
    },
    {
     "name": "stdout",
     "output_type": "stream",
     "text": [
      "Multitask Feature Learning as Multiobjective Optimization: A New Genetic Programming Approach to Image Classification.\n",
      "Fetched paper  Theos Evgeniou\n",
      "Original Paper  [{'authorId': '151479922', 'name': 'Ying Bi'}, {'authorId': '144395433', 'name': 'Bing Xue'}, {'authorId': '145269712', 'name': 'Mengjie Zhang'}]\n",
      "\n"
     ]
    },
    {
     "name": "stderr",
     "output_type": "stream",
     "text": [
      " 40%|████      | 6/15 [00:13<00:22,  2.46s/it]"
     ]
    },
    {
     "name": "stdout",
     "output_type": "stream",
     "text": [
      "Multitask Feature Learning as Multiobjective Optimization: A New Genetic Programming Approach to Image Classification.\n",
      "Fetched paper  Massimiliano Pontil\n",
      "Original Paper  [{'authorId': '151479922', 'name': 'Ying Bi'}, {'authorId': '144395433', 'name': 'Bing Xue'}, {'authorId': '145269712', 'name': 'Mengjie Zhang'}]\n",
      "\n"
     ]
    },
    {
     "name": "stderr",
     "output_type": "stream",
     "text": [
      " 47%|████▋     | 7/15 [00:14<00:15,  1.94s/it]"
     ]
    },
    {
     "name": "stdout",
     "output_type": "stream",
     "text": [
      "Error\n"
     ]
    },
    {
     "name": "stderr",
     "output_type": "stream",
     "text": [
      " 53%|█████▎    | 8/15 [00:16<00:13,  1.96s/it]"
     ]
    },
    {
     "name": "stdout",
     "output_type": "stream",
     "text": [
      "Context Effects in Category Learning: An Investigation of Four Probabilistic Models\n",
      "Fetched paper  Mike Mozer\n",
      "Original Paper  [{'authorId': '144473519', 'name': 'M. Mozer'}, {'authorId': '2111329197', 'name': 'Michael Jones'}, {'authorId': '1932413', 'name': 'Michael Shettel'}]\n",
      "\n"
     ]
    },
    {
     "name": "stderr",
     "output_type": "stream",
     "text": [
      " 60%|██████    | 9/15 [00:18<00:11,  1.95s/it]"
     ]
    },
    {
     "name": "stdout",
     "output_type": "stream",
     "text": [
      "Context Effects in Category Learning: An Investigation of Four Probabilistic Models\n",
      "Fetched paper  Michael Jones\n",
      "Original Paper  [{'authorId': '144473519', 'name': 'M. Mozer'}, {'authorId': '2111329197', 'name': 'Michael Jones'}, {'authorId': '1932413', 'name': 'Michael Shettel'}]\n",
      "\n"
     ]
    },
    {
     "name": "stderr",
     "output_type": "stream",
     "text": [
      " 67%|██████▋   | 10/15 [00:20<00:10,  2.11s/it]"
     ]
    },
    {
     "name": "stdout",
     "output_type": "stream",
     "text": [
      "Context Effects in Category Learning: An Investigation of Four Probabilistic Models\n",
      "Fetched paper  Michael Shettel\n",
      "Original Paper  [{'authorId': '144473519', 'name': 'M. Mozer'}, {'authorId': '2111329197', 'name': 'Michael Jones'}, {'authorId': '1932413', 'name': 'Michael Shettel'}]\n",
      "\n"
     ]
    },
    {
     "name": "stderr",
     "output_type": "stream",
     "text": [
      " 73%|███████▎  | 11/15 [00:23<00:09,  2.33s/it]"
     ]
    },
    {
     "name": "stdout",
     "output_type": "stream",
     "text": [
      "Comparative Gene Prediction using Conditional Random Fields\n",
      "Fetched paper  Jade P Vinson\n",
      "Original Paper  [{'authorId': '47549003', 'name': 'J. Vinson'}, {'authorId': '1973239', 'name': 'D. DeCaprio'}, {'authorId': '49848589', 'name': 'Matthew D. Pearson'}, {'authorId': '143728844', 'name': 'Stacey Luoma'}, {'authorId': '3192833', 'name': 'J. Galagan'}]\n",
      "\n"
     ]
    },
    {
     "name": "stderr",
     "output_type": "stream",
     "text": [
      " 80%|████████  | 12/15 [00:26<00:07,  2.50s/it]"
     ]
    },
    {
     "name": "stdout",
     "output_type": "stream",
     "text": [
      "Comparative Gene Prediction using Conditional Random Fields\n",
      "Fetched paper  David DeCaprio\n",
      "Original Paper  [{'authorId': '47549003', 'name': 'J. Vinson'}, {'authorId': '1973239', 'name': 'D. DeCaprio'}, {'authorId': '49848589', 'name': 'Matthew D. Pearson'}, {'authorId': '143728844', 'name': 'Stacey Luoma'}, {'authorId': '3192833', 'name': 'J. Galagan'}]\n",
      "\n"
     ]
    },
    {
     "name": "stderr",
     "output_type": "stream",
     "text": [
      " 87%|████████▋ | 13/15 [00:29<00:05,  2.54s/it]"
     ]
    },
    {
     "name": "stdout",
     "output_type": "stream",
     "text": [
      "Comparative Gene Prediction using Conditional Random Fields\n",
      "Fetched paper  Stacey Luoma\n",
      "Original Paper  [{'authorId': '47549003', 'name': 'J. Vinson'}, {'authorId': '1973239', 'name': 'D. DeCaprio'}, {'authorId': '49848589', 'name': 'Matthew D. Pearson'}, {'authorId': '143728844', 'name': 'Stacey Luoma'}, {'authorId': '3192833', 'name': 'J. Galagan'}]\n",
      "\n"
     ]
    },
    {
     "name": "stderr",
     "output_type": "stream",
     "text": [
      " 93%|█████████▎| 14/15 [00:33<00:03,  3.01s/it]"
     ]
    },
    {
     "name": "stdout",
     "output_type": "stream",
     "text": [
      "Comparative Gene Prediction using Conditional Random Fields\n",
      "Fetched paper  James Galagan\n",
      "Original Paper  [{'authorId': '47549003', 'name': 'J. Vinson'}, {'authorId': '1973239', 'name': 'D. DeCaprio'}, {'authorId': '49848589', 'name': 'Matthew D. Pearson'}, {'authorId': '143728844', 'name': 'Stacey Luoma'}, {'authorId': '3192833', 'name': 'J. Galagan'}]\n",
      "\n"
     ]
    },
    {
     "name": "stderr",
     "output_type": "stream",
     "text": [
      "100%|██████████| 15/15 [00:36<00:00,  2.42s/it]"
     ]
    },
    {
     "name": "stdout",
     "output_type": "stream",
     "text": [
      "Causal inference in sensorimotor integration\n",
      "Fetched paper  Konrad P Kording\n",
      "Original Paper  [{'authorId': '3282030', 'name': 'Konrad Paul Kording'}, {'authorId': '1763295', 'name': 'J. Tenenbaum'}]\n",
      "\n"
     ]
    },
    {
     "name": "stderr",
     "output_type": "stream",
     "text": [
      "\n"
     ]
    }
   ],
   "source": [
    "# do above for 10 papers\n",
    "\n",
    "citation_graph = {}\n",
    "\n",
    "from tqdm import tqdm,trange\n",
    "\n",
    "citation_graph_df=pd.DataFrame(columns=['paperId','Cited Paper Ids'])\n",
    "\n",
    "for i in trange(15):\n",
    "    \n",
    "    try:\n",
    "        req2=requests.get(\"http://api.semanticscholar.org/graph/v1/paper/search?query=\"+df['Title'][i])\n",
    "        dic=json.loads(req2.content.decode('utf-8'))\n",
    "       \n",
    "\n",
    "        cited_paper=[]\n",
    "    \n",
    "        id=dic['data'][0]['paperId']\n",
    "        \n",
    "        search_by_id=\"https://api.semanticscholar.org/graph/v1/paper/\"+id+\"?fields=title,citations.authors,authors\"\n",
    "        req3=requests.get(search_by_id)\n",
    "        dic2=json.loads(req3.content.decode('utf-8'))\n",
    "\n",
    "        for citation in dic2['citations']:\n",
    "            cited_paper.append(citation['paperId'])\n",
    "        citation_graph_df.loc[i]=[id,cited_paper]\n",
    "        citation_graph[id]=cited_paper\n",
    "        print(dic2['title'])\n",
    "        print(\"Fetched paper \",df['Author'][i])\n",
    "        print(\"Original Paper \",dic2['authors'])\n",
    "        print()\n",
    "    except:\n",
    "        print(\"Error\")\n",
    "\n"
   ]
  },
  {
   "cell_type": "code",
   "execution_count": 205,
   "metadata": {},
   "outputs": [
    {
     "data": {
      "text/plain": [
       "dict_keys(['1cac3ee85e52cb0afde71f66472e35a315a4a112', '7227f224679969446d5363c7dbfd61bcdd4b338f'])"
      ]
     },
     "execution_count": 205,
     "metadata": {},
     "output_type": "execute_result"
    }
   ],
   "source": [
    "citation_graph.keys()"
   ]
  },
  {
   "cell_type": "code",
   "execution_count": 223,
   "metadata": {},
   "outputs": [
    {
     "data": {
      "image/png": "[encoded data removed]",
      "text/plain": [
       "<Figure size 640x480 with 1 Axes>"
      ]
     },
     "metadata": {},
     "output_type": "display_data"
    },
    {
     "name": "stdout",
     "output_type": "stream",
     "text": [
      "4\n"
     ]
    }
   ],
   "source": [
    "# First networkx library is imported\n",
    "# along with matplotlib\n",
    "import networkx as nx\n",
    "import matplotlib.pyplot as plt\n",
    "\n",
    "\n",
    "\n",
    "# from gfg\n",
    "class GraphVisualization:\n",
    "\n",
    "\tdef __init__(self):\n",
    "\t\t\n",
    "\t\t\n",
    "\t\tself.visual = []\n",
    "\t\n",
    "\tdef addEdge(self, a, b):\n",
    "\t\ttemp = [a, b]\n",
    "\t\tself.visual.append(temp)\n",
    "\t\t\n",
    "\t\n",
    "\tdef visualize(self):\n",
    "\t\tG = nx.Graph()\n",
    "\t\tG.add_edges_from(self.visual)\n",
    "\t\tnx.draw_networkx(G)\n",
    "\t\tplt.show()\n",
    "\n",
    "# Driver code\n",
    "G = GraphVisualization()\n",
    "\n",
    "#hash long id to short id\n",
    "\n",
    "def hash_id(id):\n",
    "\tsum_of_chars=0\n",
    "\tfor char in id:\n",
    "\t\tsum_of_chars+=ord(char)\n",
    "\treturn sum_of_chars%500\n",
    "\t\n",
    "\n",
    "st=set()\n",
    "\n",
    "\n",
    "for paper in citation_graph.keys():\n",
    "    st.add(hash_id(paper))\n",
    "    for cited_paper in citation_graph[paper]:\n",
    "        \n",
    "        G.addEdge(hash_id(cited_paper),hash_id(paper))\n",
    "        j=j+1\n",
    "    i=i+1\n",
    "G.visualize()\n",
    "\n",
    "print(len(st))\n",
    "\n"
   ]
  },
  {
   "cell_type": "code",
   "execution_count": null,
   "metadata": {},
   "outputs": [],
   "source": []
  }
 ],
 "metadata": {
  "kernelspec": {
   "display_name": "Python 3",
   "language": "python",
   "name": "python3"
  },
  "language_info": {
   "codemirror_mode": {
    "name": "ipython",
    "version": 3
   },
   "file_extension": ".py",
   "mimetype": "text/x-python",
   "name": "python",
   "nbconvert_exporter": "python",
   "pygments_lexer": "ipython3",
   "version": "3.11.1"
  },
  "orig_nbformat": 4
 },
 "nbformat": 4,
 "nbformat_minor": 2
}
